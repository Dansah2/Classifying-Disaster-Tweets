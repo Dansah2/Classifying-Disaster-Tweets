{
  "cells": [
    {
      "cell_type": "markdown",
      "metadata": {
        "id": "view-in-github",
        "colab_type": "text"
      },
      "source": [
        "<a href=\"https://colab.research.google.com/github/Dansah2/Classifying-Disaster-Tweets/blob/main/EDA_Classifying_Disaster_Tweets_.ipynb\" target=\"_parent\"><img src=\"https://colab.research.google.com/assets/colab-badge.svg\" alt=\"Open In Colab\"/></a>"
      ]
    },
    {
      "cell_type": "markdown",
      "metadata": {
        "id": "6NWrKiQ4fRGS"
      },
      "source": [
        "# Classifying Disaster Tweets"
      ]
    },
    {
      "cell_type": "markdown",
      "metadata": {
        "id": "tf6F6FaOB0dQ"
      },
      "source": [
        "Kaggle Dataset Download API Command:\n",
        "\n",
        "kaggle competitions download -c nlp-getting-started"
      ]
    },
    {
      "cell_type": "markdown",
      "metadata": {
        "id": "RXlEc616CFtt"
      },
      "source": [
        "Use three different techniques to classify a tweet as either a 'Disaster Tweet' or 'Non-Disaster Tweet'."
      ]
    },
    {
      "cell_type": "markdown",
      "metadata": {
        "id": "aEHxmjhghVvK"
      },
      "source": [
        "##Project Outline:\n",
        "\n",
        "1) Download the dataset\n",
        "\n",
        "2) Explore/Analyze the data\n",
        "\n",
        "3) Preprocess and organize the data\n",
        "\n",
        "4) Classify using Vadar\n",
        "\n",
        "5) Classify using Bag of Words\n",
        "\n",
        "6) Classify using Hugging Face"
      ]
    },
    {
      "cell_type": "markdown",
      "metadata": {
        "id": "JqdmA7kIfkiE"
      },
      "source": [
        "## Download the Dataset\n",
        "\n",
        "1) Install required libraries\n",
        "\n",
        "2) Import required libraries\n",
        "\n",
        "3) Download data from Kaggle\n"
      ]
    },
    {
      "cell_type": "markdown",
      "metadata": {
        "id": "khuyKRt5FkpA"
      },
      "source": [
        "#### Install Required Libraries"
      ]
    },
    {
      "cell_type": "code",
      "execution_count": null,
      "metadata": {
        "colab": {
          "base_uri": "https://localhost:8080/",
          "height": 354
        },
        "id": "sDyjJqSZFwvL",
        "outputId": "a75bc0d2-b78f-432a-f003-d9a2dcc4fa5d"
      },
      "outputs": [
        {
          "output_type": "stream",
          "name": "stdout",
          "text": [
            "Requirement already satisfied: numpy in /usr/local/lib/python3.10/dist-packages (1.23.5)\n",
            "Collecting numpy\n",
            "  Downloading numpy-1.25.2-cp310-cp310-manylinux_2_17_x86_64.manylinux2014_x86_64.whl (18.2 MB)\n",
            "\u001b[2K     \u001b[90m━━━━━━━━━━━━━━━━━━━━━━━━━━━━━━━━━━━━━━━━\u001b[0m \u001b[32m18.2/18.2 MB\u001b[0m \u001b[31m31.8 MB/s\u001b[0m eta \u001b[36m0:00:00\u001b[0m\n",
            "\u001b[?25hInstalling collected packages: numpy\n",
            "  Attempting uninstall: numpy\n",
            "    Found existing installation: numpy 1.23.5\n",
            "    Uninstalling numpy-1.23.5:\n",
            "      Successfully uninstalled numpy-1.23.5\n",
            "\u001b[31mERROR: pip's dependency resolver does not currently take into account all the packages that are installed. This behaviour is the source of the following dependency conflicts.\n",
            "numba 0.56.4 requires numpy<1.24,>=1.18, but you have numpy 1.25.2 which is incompatible.\n",
            "tensorflow 2.12.0 requires numpy<1.24,>=1.22, but you have numpy 1.25.2 which is incompatible.\u001b[0m\u001b[31m\n",
            "\u001b[0mSuccessfully installed numpy-1.25.2\n"
          ]
        },
        {
          "output_type": "display_data",
          "data": {
            "application/vnd.colab-display-data+json": {
              "pip_warning": {
                "packages": [
                  "numpy"
                ]
              }
            }
          },
          "metadata": {}
        }
      ],
      "source": [
        "!pip install -q -U kaggle\n",
        "!pip install -U numpy"
      ]
    },
    {
      "cell_type": "markdown",
      "metadata": {
        "id": "6ylR8aSxIbKf"
      },
      "source": [
        "#### Import Required Libraries"
      ]
    },
    {
      "cell_type": "code",
      "execution_count": null,
      "metadata": {
        "id": "Ie0d0NTZfd4E"
      },
      "outputs": [],
      "source": [
        "# handeling data\n",
        "import numpy as np\n",
        "import pandas as pd\n",
        "\n",
        "# graphing data\n",
        "pd.options.plotting.backend = \"plotly\"\n",
        "import plotly.graph_objects as go\n",
        "import matplotlib.pyplot as plt\n",
        "import seaborn as sns\n",
        "\n",
        "# downloading data\n",
        "from google.colab import drive"
      ]
    },
    {
      "cell_type": "markdown",
      "metadata": {
        "id": "f3N4YRGJIrmz"
      },
      "source": [
        "#### Download Data From Kaggle\n",
        "https://github.com/bnsreenu/python_for_microscopists/blob/master/Tips_tricks_35_loading_kaggle_data_to_colab.ipynb\n",
        "\n",
        "https://www.youtube.com/watch?v=yEXkEUqK52Q&t=628s"
      ]
    },
    {
      "cell_type": "code",
      "execution_count": null,
      "metadata": {
        "colab": {
          "base_uri": "https://localhost:8080/"
        },
        "id": "BbeUxY8jQlaw",
        "outputId": "884da945-0e5a-4027-d41a-47631388c207"
      },
      "outputs": [
        {
          "output_type": "stream",
          "name": "stdout",
          "text": [
            "Mounted at /content/drive\n"
          ]
        }
      ],
      "source": [
        "# Mount google drive to store Kaggle API for future use\n",
        "drive.mount('/content/drive')"
      ]
    },
    {
      "cell_type": "code",
      "execution_count": null,
      "metadata": {
        "id": "lBT6DitVROfT"
      },
      "outputs": [],
      "source": [
        "# make a directory for kaggle temporary instance location in Colab\n",
        "! mkdir ~/.kaggle"
      ]
    },
    {
      "cell_type": "code",
      "execution_count": null,
      "metadata": {
        "id": "bwWhYI4pRb9E"
      },
      "outputs": [],
      "source": [
        "# upload json fine to Google drive and copy the temporary location\n",
        "!cp /content/drive/MyDrive/Kaggle_API/kaggle.json ~/.kaggle/kaggle.json"
      ]
    },
    {
      "cell_type": "code",
      "execution_count": null,
      "metadata": {
        "id": "7ow7PgM9SCoI"
      },
      "outputs": [],
      "source": [
        "# change the file permissions to read/write to the owner only\n",
        "! chmod 600 ~/.kaggle/kaggle.json"
      ]
    },
    {
      "cell_type": "code",
      "execution_count": null,
      "metadata": {
        "colab": {
          "base_uri": "https://localhost:8080/"
        },
        "id": "2W-5-v-7SpZ7",
        "outputId": "3d558c59-c15a-4354-aa89-d2e50e3f67c3"
      },
      "outputs": [
        {
          "output_type": "stream",
          "name": "stdout",
          "text": [
            "Downloading nlp-getting-started.zip to /content\n",
            "\r  0% 0.00/593k [00:00<?, ?B/s]\n",
            "\r100% 593k/593k [00:00<00:00, 104MB/s]\n"
          ]
        }
      ],
      "source": [
        "# download the kaggle data\n",
        "! kaggle competitions download -c nlp-getting-started"
      ]
    },
    {
      "cell_type": "code",
      "execution_count": null,
      "metadata": {
        "colab": {
          "base_uri": "https://localhost:8080/"
        },
        "id": "tv2ySNqtSxJy",
        "outputId": "3df326bc-ea8c-44c6-bf56-4bacb777c564"
      },
      "outputs": [
        {
          "output_type": "stream",
          "name": "stdout",
          "text": [
            "Archive:  nlp-getting-started.zip\n",
            "  inflating: sample_submission.csv   \n",
            "  inflating: test.csv                \n",
            "  inflating: train.csv               \n"
          ]
        }
      ],
      "source": [
        "# unzip the data\n",
        "! unzip nlp-getting-started.zip"
      ]
    },
    {
      "cell_type": "code",
      "execution_count": null,
      "metadata": {
        "id": "L5JLtC0lF8_I"
      },
      "outputs": [],
      "source": [
        "# create a function to read the data into a dataframe\n",
        "\n",
        "def read_function(csv_file):\n",
        "\n",
        "    return pd.read_csv(csv_file)\n",
        "\n",
        "raw_train = read_function('/content/train.csv')\n",
        "raw_test = read_function('/content/test.csv')"
      ]
    },
    {
      "cell_type": "markdown",
      "metadata": {
        "id": "TlnZqSTBJjNX"
      },
      "source": [
        "## Explore/Analyze the Data\n",
        "1) Obtain info about the training / testing set.\n",
        "\n",
        "2) Visulize the data.\n",
        "\n",
        "3) Make observations about the data.\n"
      ]
    },
    {
      "cell_type": "markdown",
      "source": [
        "###Obtain info about the training / testing set."
      ],
      "metadata": {
        "id": "a42Or6h23gZg"
      }
    },
    {
      "cell_type": "markdown",
      "source": [
        "Notice that all columns expect id and target (int64) contain data in the form of an object.\n",
        "\n",
        "Training data: 7613 rows x 5 columns\n",
        "\n",
        "Testing data: 3263 rows x 4 columns"
      ],
      "metadata": {
        "id": "XAS8DpbG0us1"
      }
    },
    {
      "cell_type": "code",
      "execution_count": null,
      "metadata": {
        "id": "cbDZ5vCZOoUX"
      },
      "outputs": [],
      "source": [
        "# Create method to explore the data\n",
        "def exp_data(data_frame):\n",
        "\n",
        "  print(f'Data types: \\n{data_frame.dtypes}\\n')\n",
        "  print(f'\\nData info: {data_frame.info}\\n')\n",
        "  print(f'\\nData info:{data_frame.describe()}')"
      ]
    },
    {
      "cell_type": "code",
      "source": [
        "exp_data(raw_train)"
      ],
      "metadata": {
        "colab": {
          "base_uri": "https://localhost:8080/"
        },
        "id": "wdt09n-4e-X8",
        "outputId": "66364288-d6b1-4473-e698-c6b5a957c4d2"
      },
      "execution_count": null,
      "outputs": [
        {
          "output_type": "stream",
          "name": "stdout",
          "text": [
            "Data types: \n",
            "id           int64\n",
            "keyword     object\n",
            "location    object\n",
            "text        object\n",
            "target       int64\n",
            "dtype: object\n",
            "\n",
            "\n",
            "Data info: <bound method DataFrame.info of          id keyword location  \\\n",
            "0         1     NaN      NaN   \n",
            "1         4     NaN      NaN   \n",
            "2         5     NaN      NaN   \n",
            "3         6     NaN      NaN   \n",
            "4         7     NaN      NaN   \n",
            "...     ...     ...      ...   \n",
            "7608  10869     NaN      NaN   \n",
            "7609  10870     NaN      NaN   \n",
            "7610  10871     NaN      NaN   \n",
            "7611  10872     NaN      NaN   \n",
            "7612  10873     NaN      NaN   \n",
            "\n",
            "                                                   text  target  \n",
            "0     Our Deeds are the Reason of this #earthquake M...       1  \n",
            "1                Forest fire near La Ronge Sask. Canada       1  \n",
            "2     All residents asked to 'shelter in place' are ...       1  \n",
            "3     13,000 people receive #wildfires evacuation or...       1  \n",
            "4     Just got sent this photo from Ruby #Alaska as ...       1  \n",
            "...                                                 ...     ...  \n",
            "7608  Two giant cranes holding a bridge collapse int...       1  \n",
            "7609  @aria_ahrary @TheTawniest The out of control w...       1  \n",
            "7610  M1.94 [01:04 UTC]?5km S of Volcano Hawaii. htt...       1  \n",
            "7611  Police investigating after an e-bike collided ...       1  \n",
            "7612  The Latest: More Homes Razed by Northern Calif...       1  \n",
            "\n",
            "[7613 rows x 5 columns]>\n",
            "\n",
            "\n",
            "Data info:                 id      target\n",
            "count   7613.000000  7613.00000\n",
            "mean    5441.934848     0.42966\n",
            "std     3137.116090     0.49506\n",
            "min        1.000000     0.00000\n",
            "25%     2734.000000     0.00000\n",
            "50%     5408.000000     0.00000\n",
            "75%     8146.000000     1.00000\n",
            "max    10873.000000     1.00000\n"
          ]
        }
      ]
    },
    {
      "cell_type": "code",
      "source": [
        "exp_data(raw_test)"
      ],
      "metadata": {
        "colab": {
          "base_uri": "https://localhost:8080/"
        },
        "id": "KSxBoC9tfWPH",
        "outputId": "7ef12f8d-0f76-4411-95eb-e82624dfb4ec"
      },
      "execution_count": null,
      "outputs": [
        {
          "output_type": "stream",
          "name": "stdout",
          "text": [
            "Data types: \n",
            "id           int64\n",
            "keyword     object\n",
            "location    object\n",
            "text        object\n",
            "dtype: object\n",
            "\n",
            "\n",
            "Data info: <bound method DataFrame.info of          id keyword location  \\\n",
            "0         0     NaN      NaN   \n",
            "1         2     NaN      NaN   \n",
            "2         3     NaN      NaN   \n",
            "3         9     NaN      NaN   \n",
            "4        11     NaN      NaN   \n",
            "...     ...     ...      ...   \n",
            "3258  10861     NaN      NaN   \n",
            "3259  10865     NaN      NaN   \n",
            "3260  10868     NaN      NaN   \n",
            "3261  10874     NaN      NaN   \n",
            "3262  10875     NaN      NaN   \n",
            "\n",
            "                                                   text  \n",
            "0                    Just happened a terrible car crash  \n",
            "1     Heard about #earthquake is different cities, s...  \n",
            "2     there is a forest fire at spot pond, geese are...  \n",
            "3              Apocalypse lighting. #Spokane #wildfires  \n",
            "4         Typhoon Soudelor kills 28 in China and Taiwan  \n",
            "...                                                 ...  \n",
            "3258  EARTHQUAKE SAFETY LOS ANGELES ÛÒ SAFETY FASTE...  \n",
            "3259  Storm in RI worse than last hurricane. My city...  \n",
            "3260  Green Line derailment in Chicago http://t.co/U...  \n",
            "3261  MEG issues Hazardous Weather Outlook (HWO) htt...  \n",
            "3262  #CityofCalgary has activated its Municipal Eme...  \n",
            "\n",
            "[3263 rows x 4 columns]>\n",
            "\n",
            "\n",
            "Data info:                 id\n",
            "count   3263.000000\n",
            "mean    5427.152927\n",
            "std     3146.427221\n",
            "min        0.000000\n",
            "25%     2683.000000\n",
            "50%     5500.000000\n",
            "75%     8176.000000\n",
            "max    10875.000000\n"
          ]
        }
      ]
    },
    {
      "cell_type": "markdown",
      "source": [
        "Note that there are a lot of null values in the 'location' column for both the training and testing sets. I will drop this column. I will also drop the 'keyword' column although it has far less null values."
      ],
      "metadata": {
        "id": "m8ugYnSG14xa"
      }
    },
    {
      "cell_type": "code",
      "execution_count": null,
      "metadata": {
        "id": "M4cuPzkgGxBJ"
      },
      "outputs": [],
      "source": [
        "# Create method to count the null values in a particular column and find the percentage of that column\n",
        "def count_null(data_frame, col_name):\n",
        "  nulls = data_frame[col_name].isna().sum()\n",
        "  rows , _ = data_frame.shape\n",
        "  print(f'Nulls for {col_name}: {nulls} out of {rows} samples')"
      ]
    },
    {
      "cell_type": "code",
      "execution_count": null,
      "metadata": {
        "id": "32q7wVL8lOvI",
        "colab": {
          "base_uri": "https://localhost:8080/"
        },
        "outputId": "2c0f66e4-18df-4b6b-d206-8b1c5417733f"
      },
      "outputs": [
        {
          "output_type": "stream",
          "name": "stdout",
          "text": [
            "Nulls for keyword: 61 out of 7613 samples\n"
          ]
        }
      ],
      "source": [
        "count_null(raw_train, 'keyword')"
      ]
    },
    {
      "cell_type": "code",
      "execution_count": null,
      "metadata": {
        "id": "TjmY561imWUB",
        "colab": {
          "base_uri": "https://localhost:8080/"
        },
        "outputId": "f9692b76-c267-4dc0-f943-78d7723a2c67"
      },
      "outputs": [
        {
          "output_type": "stream",
          "name": "stdout",
          "text": [
            "Nulls for location: 2533 out of 7613 samples\n"
          ]
        }
      ],
      "source": [
        "count_null(raw_train, 'location')"
      ]
    },
    {
      "cell_type": "code",
      "execution_count": null,
      "metadata": {
        "id": "gNwkayIHmpY4",
        "colab": {
          "base_uri": "https://localhost:8080/"
        },
        "outputId": "2eef39ae-d13e-4d23-f05d-af3e5b45a575"
      },
      "outputs": [
        {
          "output_type": "stream",
          "name": "stdout",
          "text": [
            "Nulls for keyword: 26 out of 3263 samples\n"
          ]
        }
      ],
      "source": [
        "count_null(raw_test, 'keyword')"
      ]
    },
    {
      "cell_type": "code",
      "execution_count": null,
      "metadata": {
        "id": "0a5eHWMAnSih",
        "colab": {
          "base_uri": "https://localhost:8080/"
        },
        "outputId": "710a3109-0187-4e5c-c03d-6f0ec1928e05"
      },
      "outputs": [
        {
          "output_type": "stream",
          "name": "stdout",
          "text": [
            "Nulls for location: 1105 out of 3263 samples\n"
          ]
        }
      ],
      "source": [
        "count_null(raw_test, 'location')"
      ]
    },
    {
      "cell_type": "markdown",
      "source": [
        "###Visulize the data."
      ],
      "metadata": {
        "id": "UJjU01SP27-n"
      }
    },
    {
      "cell_type": "markdown",
      "source": [
        "Note that there is a data imbalance but it does not appear to be severe."
      ],
      "metadata": {
        "id": "sWzLuVHG2gL2"
      }
    },
    {
      "cell_type": "code",
      "execution_count": null,
      "metadata": {
        "id": "7BRytLJWGJuu"
      },
      "outputs": [],
      "source": [
        "# create a bar graph that displays the count of each class\n",
        "\n",
        "def exp_graph_data(data_frame, target_col_name=None):\n",
        "\n",
        "  print(f\"Data shape: {data_frame.shape}\\n\")\n",
        "  print(f'Column Names: {list(data_frame.columns)}\\n')\n",
        "\n",
        "  if target_col_name:\n",
        "    class_counts = data_frame[target_col_name].value_counts()\n",
        "\n",
        "    print(f'Label Count:\\n{class_counts}')\n",
        "\n",
        "    fig = go.Figure(go.Bar(x=class_counts.index,\n",
        "                           y=class_counts.values))\n",
        "\n",
        "    fig.update_layout(xaxis_title_text='Classes',\n",
        "                      yaxis_title_text='Count',\n",
        "                      title_text='Count of Each Class')\n",
        "    fig.show()"
      ]
    },
    {
      "cell_type": "code",
      "execution_count": null,
      "metadata": {
        "id": "LUGeggSOipp6",
        "colab": {
          "base_uri": "https://localhost:8080/"
        },
        "outputId": "3fb541de-f651-4939-fd44-f50c92e3d1b4"
      },
      "outputs": [
        {
          "output_type": "stream",
          "name": "stdout",
          "text": [
            "Data shape: (3263, 4)\n",
            "\n",
            "Column Names: ['id', 'keyword', 'location', 'text']\n",
            "\n"
          ]
        }
      ],
      "source": [
        "exp_graph_data(raw_test)"
      ]
    },
    {
      "cell_type": "code",
      "execution_count": null,
      "metadata": {
        "id": "uEirBiFwh9kr",
        "colab": {
          "base_uri": "https://localhost:8080/",
          "height": 678
        },
        "outputId": "99e8d8a3-30e9-46b8-e809-39db1963d240"
      },
      "outputs": [
        {
          "output_type": "stream",
          "name": "stdout",
          "text": [
            "Data shape: (7613, 5)\n",
            "\n",
            "Column Names: ['id', 'keyword', 'location', 'text', 'target']\n",
            "\n",
            "Label Count:\n",
            "0    4342\n",
            "1    3271\n",
            "Name: target, dtype: int64\n"
          ]
        },
        {
          "output_type": "display_data",
          "data": {
            "text/html": [
              "<html>\n",
              "<head><meta charset=\"utf-8\" /></head>\n",
              "<body>\n",
              "    <div>            <script src=\"https://cdnjs.cloudflare.com/ajax/libs/mathjax/2.7.5/MathJax.js?config=TeX-AMS-MML_SVG\"></script><script type=\"text/javascript\">if (window.MathJax && window.MathJax.Hub && window.MathJax.Hub.Config) {window.MathJax.Hub.Config({SVG: {font: \"STIX-Web\"}});}</script>                <script type=\"text/javascript\">window.PlotlyConfig = {MathJaxConfig: 'local'};</script>\n",
              "        <script charset=\"utf-8\" src=\"https://cdn.plot.ly/plotly-2.24.1.min.js\"></script>                <div id=\"520ed50a-36c9-46a6-8daf-158d37e7e33e\" class=\"plotly-graph-div\" style=\"height:525px; width:100%;\"></div>            <script type=\"text/javascript\">                                    window.PLOTLYENV=window.PLOTLYENV || {};                                    if (document.getElementById(\"520ed50a-36c9-46a6-8daf-158d37e7e33e\")) {                    Plotly.newPlot(                        \"520ed50a-36c9-46a6-8daf-158d37e7e33e\",                        [{\"x\":[0,1],\"y\":[4342,3271],\"type\":\"bar\"}],                        {\"template\":{\"data\":{\"histogram2dcontour\":[{\"type\":\"histogram2dcontour\",\"colorbar\":{\"outlinewidth\":0,\"ticks\":\"\"},\"colorscale\":[[0.0,\"#0d0887\"],[0.1111111111111111,\"#46039f\"],[0.2222222222222222,\"#7201a8\"],[0.3333333333333333,\"#9c179e\"],[0.4444444444444444,\"#bd3786\"],[0.5555555555555556,\"#d8576b\"],[0.6666666666666666,\"#ed7953\"],[0.7777777777777778,\"#fb9f3a\"],[0.8888888888888888,\"#fdca26\"],[1.0,\"#f0f921\"]]}],\"choropleth\":[{\"type\":\"choropleth\",\"colorbar\":{\"outlinewidth\":0,\"ticks\":\"\"}}],\"histogram2d\":[{\"type\":\"histogram2d\",\"colorbar\":{\"outlinewidth\":0,\"ticks\":\"\"},\"colorscale\":[[0.0,\"#0d0887\"],[0.1111111111111111,\"#46039f\"],[0.2222222222222222,\"#7201a8\"],[0.3333333333333333,\"#9c179e\"],[0.4444444444444444,\"#bd3786\"],[0.5555555555555556,\"#d8576b\"],[0.6666666666666666,\"#ed7953\"],[0.7777777777777778,\"#fb9f3a\"],[0.8888888888888888,\"#fdca26\"],[1.0,\"#f0f921\"]]}],\"heatmap\":[{\"type\":\"heatmap\",\"colorbar\":{\"outlinewidth\":0,\"ticks\":\"\"},\"colorscale\":[[0.0,\"#0d0887\"],[0.1111111111111111,\"#46039f\"],[0.2222222222222222,\"#7201a8\"],[0.3333333333333333,\"#9c179e\"],[0.4444444444444444,\"#bd3786\"],[0.5555555555555556,\"#d8576b\"],[0.6666666666666666,\"#ed7953\"],[0.7777777777777778,\"#fb9f3a\"],[0.8888888888888888,\"#fdca26\"],[1.0,\"#f0f921\"]]}],\"heatmapgl\":[{\"type\":\"heatmapgl\",\"colorbar\":{\"outlinewidth\":0,\"ticks\":\"\"},\"colorscale\":[[0.0,\"#0d0887\"],[0.1111111111111111,\"#46039f\"],[0.2222222222222222,\"#7201a8\"],[0.3333333333333333,\"#9c179e\"],[0.4444444444444444,\"#bd3786\"],[0.5555555555555556,\"#d8576b\"],[0.6666666666666666,\"#ed7953\"],[0.7777777777777778,\"#fb9f3a\"],[0.8888888888888888,\"#fdca26\"],[1.0,\"#f0f921\"]]}],\"contourcarpet\":[{\"type\":\"contourcarpet\",\"colorbar\":{\"outlinewidth\":0,\"ticks\":\"\"}}],\"contour\":[{\"type\":\"contour\",\"colorbar\":{\"outlinewidth\":0,\"ticks\":\"\"},\"colorscale\":[[0.0,\"#0d0887\"],[0.1111111111111111,\"#46039f\"],[0.2222222222222222,\"#7201a8\"],[0.3333333333333333,\"#9c179e\"],[0.4444444444444444,\"#bd3786\"],[0.5555555555555556,\"#d8576b\"],[0.6666666666666666,\"#ed7953\"],[0.7777777777777778,\"#fb9f3a\"],[0.8888888888888888,\"#fdca26\"],[1.0,\"#f0f921\"]]}],\"surface\":[{\"type\":\"surface\",\"colorbar\":{\"outlinewidth\":0,\"ticks\":\"\"},\"colorscale\":[[0.0,\"#0d0887\"],[0.1111111111111111,\"#46039f\"],[0.2222222222222222,\"#7201a8\"],[0.3333333333333333,\"#9c179e\"],[0.4444444444444444,\"#bd3786\"],[0.5555555555555556,\"#d8576b\"],[0.6666666666666666,\"#ed7953\"],[0.7777777777777778,\"#fb9f3a\"],[0.8888888888888888,\"#fdca26\"],[1.0,\"#f0f921\"]]}],\"mesh3d\":[{\"type\":\"mesh3d\",\"colorbar\":{\"outlinewidth\":0,\"ticks\":\"\"}}],\"scatter\":[{\"fillpattern\":{\"fillmode\":\"overlay\",\"size\":10,\"solidity\":0.2},\"type\":\"scatter\"}],\"parcoords\":[{\"type\":\"parcoords\",\"line\":{\"colorbar\":{\"outlinewidth\":0,\"ticks\":\"\"}}}],\"scatterpolargl\":[{\"type\":\"scatterpolargl\",\"marker\":{\"colorbar\":{\"outlinewidth\":0,\"ticks\":\"\"}}}],\"bar\":[{\"error_x\":{\"color\":\"#2a3f5f\"},\"error_y\":{\"color\":\"#2a3f5f\"},\"marker\":{\"line\":{\"color\":\"#E5ECF6\",\"width\":0.5},\"pattern\":{\"fillmode\":\"overlay\",\"size\":10,\"solidity\":0.2}},\"type\":\"bar\"}],\"scattergeo\":[{\"type\":\"scattergeo\",\"marker\":{\"colorbar\":{\"outlinewidth\":0,\"ticks\":\"\"}}}],\"scatterpolar\":[{\"type\":\"scatterpolar\",\"marker\":{\"colorbar\":{\"outlinewidth\":0,\"ticks\":\"\"}}}],\"histogram\":[{\"marker\":{\"pattern\":{\"fillmode\":\"overlay\",\"size\":10,\"solidity\":0.2}},\"type\":\"histogram\"}],\"scattergl\":[{\"type\":\"scattergl\",\"marker\":{\"colorbar\":{\"outlinewidth\":0,\"ticks\":\"\"}}}],\"scatter3d\":[{\"type\":\"scatter3d\",\"line\":{\"colorbar\":{\"outlinewidth\":0,\"ticks\":\"\"}},\"marker\":{\"colorbar\":{\"outlinewidth\":0,\"ticks\":\"\"}}}],\"scattermapbox\":[{\"type\":\"scattermapbox\",\"marker\":{\"colorbar\":{\"outlinewidth\":0,\"ticks\":\"\"}}}],\"scatterternary\":[{\"type\":\"scatterternary\",\"marker\":{\"colorbar\":{\"outlinewidth\":0,\"ticks\":\"\"}}}],\"scattercarpet\":[{\"type\":\"scattercarpet\",\"marker\":{\"colorbar\":{\"outlinewidth\":0,\"ticks\":\"\"}}}],\"carpet\":[{\"aaxis\":{\"endlinecolor\":\"#2a3f5f\",\"gridcolor\":\"white\",\"linecolor\":\"white\",\"minorgridcolor\":\"white\",\"startlinecolor\":\"#2a3f5f\"},\"baxis\":{\"endlinecolor\":\"#2a3f5f\",\"gridcolor\":\"white\",\"linecolor\":\"white\",\"minorgridcolor\":\"white\",\"startlinecolor\":\"#2a3f5f\"},\"type\":\"carpet\"}],\"table\":[{\"cells\":{\"fill\":{\"color\":\"#EBF0F8\"},\"line\":{\"color\":\"white\"}},\"header\":{\"fill\":{\"color\":\"#C8D4E3\"},\"line\":{\"color\":\"white\"}},\"type\":\"table\"}],\"barpolar\":[{\"marker\":{\"line\":{\"color\":\"#E5ECF6\",\"width\":0.5},\"pattern\":{\"fillmode\":\"overlay\",\"size\":10,\"solidity\":0.2}},\"type\":\"barpolar\"}],\"pie\":[{\"automargin\":true,\"type\":\"pie\"}]},\"layout\":{\"autotypenumbers\":\"strict\",\"colorway\":[\"#636efa\",\"#EF553B\",\"#00cc96\",\"#ab63fa\",\"#FFA15A\",\"#19d3f3\",\"#FF6692\",\"#B6E880\",\"#FF97FF\",\"#FECB52\"],\"font\":{\"color\":\"#2a3f5f\"},\"hovermode\":\"closest\",\"hoverlabel\":{\"align\":\"left\"},\"paper_bgcolor\":\"white\",\"plot_bgcolor\":\"#E5ECF6\",\"polar\":{\"bgcolor\":\"#E5ECF6\",\"angularaxis\":{\"gridcolor\":\"white\",\"linecolor\":\"white\",\"ticks\":\"\"},\"radialaxis\":{\"gridcolor\":\"white\",\"linecolor\":\"white\",\"ticks\":\"\"}},\"ternary\":{\"bgcolor\":\"#E5ECF6\",\"aaxis\":{\"gridcolor\":\"white\",\"linecolor\":\"white\",\"ticks\":\"\"},\"baxis\":{\"gridcolor\":\"white\",\"linecolor\":\"white\",\"ticks\":\"\"},\"caxis\":{\"gridcolor\":\"white\",\"linecolor\":\"white\",\"ticks\":\"\"}},\"coloraxis\":{\"colorbar\":{\"outlinewidth\":0,\"ticks\":\"\"}},\"colorscale\":{\"sequential\":[[0.0,\"#0d0887\"],[0.1111111111111111,\"#46039f\"],[0.2222222222222222,\"#7201a8\"],[0.3333333333333333,\"#9c179e\"],[0.4444444444444444,\"#bd3786\"],[0.5555555555555556,\"#d8576b\"],[0.6666666666666666,\"#ed7953\"],[0.7777777777777778,\"#fb9f3a\"],[0.8888888888888888,\"#fdca26\"],[1.0,\"#f0f921\"]],\"sequentialminus\":[[0.0,\"#0d0887\"],[0.1111111111111111,\"#46039f\"],[0.2222222222222222,\"#7201a8\"],[0.3333333333333333,\"#9c179e\"],[0.4444444444444444,\"#bd3786\"],[0.5555555555555556,\"#d8576b\"],[0.6666666666666666,\"#ed7953\"],[0.7777777777777778,\"#fb9f3a\"],[0.8888888888888888,\"#fdca26\"],[1.0,\"#f0f921\"]],\"diverging\":[[0,\"#8e0152\"],[0.1,\"#c51b7d\"],[0.2,\"#de77ae\"],[0.3,\"#f1b6da\"],[0.4,\"#fde0ef\"],[0.5,\"#f7f7f7\"],[0.6,\"#e6f5d0\"],[0.7,\"#b8e186\"],[0.8,\"#7fbc41\"],[0.9,\"#4d9221\"],[1,\"#276419\"]]},\"xaxis\":{\"gridcolor\":\"white\",\"linecolor\":\"white\",\"ticks\":\"\",\"title\":{\"standoff\":15},\"zerolinecolor\":\"white\",\"automargin\":true,\"zerolinewidth\":2},\"yaxis\":{\"gridcolor\":\"white\",\"linecolor\":\"white\",\"ticks\":\"\",\"title\":{\"standoff\":15},\"zerolinecolor\":\"white\",\"automargin\":true,\"zerolinewidth\":2},\"scene\":{\"xaxis\":{\"backgroundcolor\":\"#E5ECF6\",\"gridcolor\":\"white\",\"linecolor\":\"white\",\"showbackground\":true,\"ticks\":\"\",\"zerolinecolor\":\"white\",\"gridwidth\":2},\"yaxis\":{\"backgroundcolor\":\"#E5ECF6\",\"gridcolor\":\"white\",\"linecolor\":\"white\",\"showbackground\":true,\"ticks\":\"\",\"zerolinecolor\":\"white\",\"gridwidth\":2},\"zaxis\":{\"backgroundcolor\":\"#E5ECF6\",\"gridcolor\":\"white\",\"linecolor\":\"white\",\"showbackground\":true,\"ticks\":\"\",\"zerolinecolor\":\"white\",\"gridwidth\":2}},\"shapedefaults\":{\"line\":{\"color\":\"#2a3f5f\"}},\"annotationdefaults\":{\"arrowcolor\":\"#2a3f5f\",\"arrowhead\":0,\"arrowwidth\":1},\"geo\":{\"bgcolor\":\"white\",\"landcolor\":\"#E5ECF6\",\"subunitcolor\":\"white\",\"showland\":true,\"showlakes\":true,\"lakecolor\":\"white\"},\"title\":{\"x\":0.05},\"mapbox\":{\"style\":\"light\"}}},\"xaxis\":{\"title\":{\"text\":\"Classes\"}},\"yaxis\":{\"title\":{\"text\":\"Count\"}},\"title\":{\"text\":\"Count of Each Class\"}},                        {\"responsive\": true}                    ).then(function(){\n",
              "                            \n",
              "var gd = document.getElementById('520ed50a-36c9-46a6-8daf-158d37e7e33e');\n",
              "var x = new MutationObserver(function (mutations, observer) {{\n",
              "        var display = window.getComputedStyle(gd).display;\n",
              "        if (!display || display === 'none') {{\n",
              "            console.log([gd, 'removed!']);\n",
              "            Plotly.purge(gd);\n",
              "            observer.disconnect();\n",
              "        }}\n",
              "}});\n",
              "\n",
              "// Listen for the removal of the full notebook cells\n",
              "var notebookContainer = gd.closest('#notebook-container');\n",
              "if (notebookContainer) {{\n",
              "    x.observe(notebookContainer, {childList: true});\n",
              "}}\n",
              "\n",
              "// Listen for the clearing of the current output cell\n",
              "var outputEl = gd.closest('.output');\n",
              "if (outputEl) {{\n",
              "    x.observe(outputEl, {childList: true});\n",
              "}}\n",
              "\n",
              "                        })                };                            </script>        </div>\n",
              "</body>\n",
              "</html>"
            ]
          },
          "metadata": {}
        }
      ],
      "source": [
        "exp_graph_data(raw_train, 'target')"
      ]
    }
  ],
  "metadata": {
    "accelerator": "GPU",
    "colab": {
      "provenance": [],
      "include_colab_link": true
    },
    "kernelspec": {
      "display_name": "Python 3",
      "name": "python3"
    },
    "language_info": {
      "name": "python"
    }
  },
  "nbformat": 4,
  "nbformat_minor": 0
}