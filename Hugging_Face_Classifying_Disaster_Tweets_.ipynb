{
  "cells": [
    {
      "cell_type": "markdown",
      "metadata": {
        "id": "view-in-github",
        "colab_type": "text"
      },
      "source": [
        "<a href=\"https://colab.research.google.com/github/Dansah2/Classifying-Disaster-Tweets/blob/main/Hugging_Face_Classifying_Disaster_Tweets_.ipynb\" target=\"_parent\"><img src=\"https://colab.research.google.com/assets/colab-badge.svg\" alt=\"Open In Colab\"/></a>"
      ]
    },
    {
      "cell_type": "markdown",
      "metadata": {
        "id": "6NWrKiQ4fRGS"
      },
      "source": [
        "# Classifying Disaster Tweets"
      ]
    },
    {
      "cell_type": "markdown",
      "metadata": {
        "id": "tf6F6FaOB0dQ"
      },
      "source": [
        "Kaggle Dataset Download API Command:\n",
        "\n",
        "kaggle competitions download -c nlp-getting-started"
      ]
    },
    {
      "cell_type": "markdown",
      "metadata": {
        "id": "RXlEc616CFtt"
      },
      "source": [
        "I will classify a tweet as either a 'Disaster Tweet' or 'Non-Disaster Tweet'."
      ]
    },
    {
      "cell_type": "markdown",
      "metadata": {
        "id": "aEHxmjhghVvK"
      },
      "source": [
        "##Project Outline:\n",
        "\n",
        "1) Download the dataset\n",
        "\n",
        "2) Explore/Analyze the data\n",
        "\n",
        "3) Preprocess and organize the data\n",
        "\n",
        "4) Classify using Vader\n",
        "\n",
        "5) Classify using Bag of Words\n",
        "\n",
        "6) Classify using Hugging Face"
      ]
    },
    {
      "cell_type": "markdown",
      "metadata": {
        "id": "JqdmA7kIfkiE"
      },
      "source": [
        "## Download the Dataset\n",
        "\n",
        "1) Install required libraries\n",
        "\n",
        "2) Import required libraries\n",
        "\n",
        "3) Upload Data from Google Drive\n"
      ]
    },
    {
      "cell_type": "markdown",
      "metadata": {
        "id": "khuyKRt5FkpA"
      },
      "source": [
        "#### Install Required Libraries"
      ]
    },
    {
      "cell_type": "code",
      "execution_count": null,
      "metadata": {
        "colab": {
          "base_uri": "https://localhost:8080/"
        },
        "id": "sDyjJqSZFwvL",
        "outputId": "cf9acd44-246f-43e4-a058-8461ab3fefd3"
      },
      "outputs": [
        {
          "output_type": "stream",
          "name": "stdout",
          "text": [
            "\u001b[2K     \u001b[90m━━━━━━━━━━━━━━━━━━━━━━━━━━━━━━━━━━━━━━━━\u001b[0m \u001b[32m10.8/10.8 MB\u001b[0m \u001b[31m39.5 MB/s\u001b[0m eta \u001b[36m0:00:00\u001b[0m\n",
            "\u001b[2K     \u001b[90m━━━━━━━━━━━━━━━━━━━━━━━━━━━━━━━━━━━━━━━━\u001b[0m \u001b[32m18.2/18.2 MB\u001b[0m \u001b[31m22.4 MB/s\u001b[0m eta \u001b[36m0:00:00\u001b[0m\n",
            "\u001b[?25h\u001b[31mERROR: pip's dependency resolver does not currently take into account all the packages that are installed. This behaviour is the source of the following dependency conflicts.\n",
            "numba 0.56.4 requires numpy<1.24,>=1.18, but you have numpy 1.25.2 which is incompatible.\n",
            "tensorflow 2.12.0 requires numpy<1.24,>=1.22, but you have numpy 1.25.2 which is incompatible.\u001b[0m\u001b[31m\n",
            "\u001b[2K     \u001b[90m━━━━━━━━━━━━━━━━━━━━━━━━━━━━━━━━━━━━━━━━\u001b[0m \u001b[32m7.5/7.5 MB\u001b[0m \u001b[31m26.9 MB/s\u001b[0m eta \u001b[36m0:00:00\u001b[0m\n",
            "\u001b[2K     \u001b[90m━━━━━━━━━━━━━━━━━━━━━━━━━━━━━━━━━━━━━━\u001b[0m \u001b[32m519.3/519.3 kB\u001b[0m \u001b[31m35.7 MB/s\u001b[0m eta \u001b[36m0:00:00\u001b[0m\n",
            "\u001b[2K     \u001b[90m━━━━━━━━━━━━━━━━━━━━━━━━━━━━━━━━━━━━━━\u001b[0m \u001b[32m268.8/268.8 kB\u001b[0m \u001b[31m23.9 MB/s\u001b[0m eta \u001b[36m0:00:00\u001b[0m\n",
            "\u001b[2K     \u001b[90m━━━━━━━━━━━━━━━━━━━━━━━━━━━━━━━━━━━━━━━━\u001b[0m \u001b[32m7.8/7.8 MB\u001b[0m \u001b[31m86.8 MB/s\u001b[0m eta \u001b[36m0:00:00\u001b[0m\n",
            "\u001b[2K     \u001b[90m━━━━━━━━━━━━━━━━━━━━━━━━━━━━━━━━━━━━━━━━\u001b[0m \u001b[32m1.3/1.3 MB\u001b[0m \u001b[31m57.3 MB/s\u001b[0m eta \u001b[36m0:00:00\u001b[0m\n",
            "\u001b[2K     \u001b[90m━━━━━━━━━━━━━━━━━━━━━━━━━━━━━━━━━━━━━━\u001b[0m \u001b[32m115.3/115.3 kB\u001b[0m \u001b[31m11.0 MB/s\u001b[0m eta \u001b[36m0:00:00\u001b[0m\n",
            "\u001b[2K     \u001b[90m━━━━━━━━━━━━━━━━━━━━━━━━━━━━━━━━━━━━━━\u001b[0m \u001b[32m194.1/194.1 kB\u001b[0m \u001b[31m19.2 MB/s\u001b[0m eta \u001b[36m0:00:00\u001b[0m\n",
            "\u001b[2K     \u001b[90m━━━━━━━━━━━━━━━━━━━━━━━━━━━━━━━━━━━━━━\u001b[0m \u001b[32m134.8/134.8 kB\u001b[0m \u001b[31m10.7 MB/s\u001b[0m eta \u001b[36m0:00:00\u001b[0m\n",
            "\u001b[2K     \u001b[90m━━━━━━━━━━━━━━━━━━━━━━━━━━━━━━━━━━━━━━━\u001b[0m \u001b[32m176.1/176.1 kB\u001b[0m \u001b[31m3.9 MB/s\u001b[0m eta \u001b[36m0:00:00\u001b[0m\n",
            "\u001b[?25h"
          ]
        }
      ],
      "source": [
        "!pip install -q -U scikit-learn\n",
        "!pip install -q -U numpy\n",
        "!pip install -q -U transformers datasets"
      ]
    },
    {
      "cell_type": "markdown",
      "metadata": {
        "id": "6ylR8aSxIbKf"
      },
      "source": [
        "#### Import Required Libraries"
      ]
    },
    {
      "cell_type": "code",
      "execution_count": null,
      "metadata": {
        "id": "Ie0d0NTZfd4E"
      },
      "outputs": [],
      "source": [
        "# handeling data\n",
        "import numpy as np\n",
        "import pandas as pd\n",
        "\n",
        "# graphing data\n",
        "pd.options.plotting.backend = \"plotly\"\n",
        "import plotly.graph_objects as go\n",
        "\n",
        "# downloading data\n",
        "from google.colab import drive\n",
        "\n",
        "# splitting data\n",
        "from sklearn.model_selection import train_test_split\n",
        "\n",
        "# training the data\n",
        "import tensorflow as tf\n",
        "from transformers import AutoTokenizer, TFAutoModelForSequenceClassification"
      ]
    },
    {
      "cell_type": "markdown",
      "source": [
        "####Upload Data from Google Drive"
      ],
      "metadata": {
        "id": "p1uPJGKx9Fzo"
      }
    },
    {
      "cell_type": "code",
      "execution_count": null,
      "metadata": {
        "colab": {
          "base_uri": "https://localhost:8080/"
        },
        "id": "BbeUxY8jQlaw",
        "outputId": "4d375844-6cde-4152-d09e-574c789766c3"
      },
      "outputs": [
        {
          "output_type": "stream",
          "name": "stdout",
          "text": [
            "Mounted at /content/drive\n"
          ]
        }
      ],
      "source": [
        "# Mount google drive to store Kaggle API for future use\n",
        "drive.mount('/content/drive')"
      ]
    },
    {
      "cell_type": "code",
      "source": [
        "# read in the data\n",
        "HF_train = pd.read_csv('/content/drive/My Drive/Disaster_Tweets/train_df.csv').copy()\n",
        "HF_test = pd.read_csv('/content/drive/My Drive/Disaster_Tweets/test_df.csv').copy()"
      ],
      "metadata": {
        "id": "_qP7jsZpWPyf"
      },
      "execution_count": null,
      "outputs": []
    },
    {
      "cell_type": "markdown",
      "source": [
        "##**Find Sentiment with Hugging Face**\n",
        "\n",
        "https://blog.tensorflow.org/2019/11/hugging-face-state-of-art-natural.html"
      ],
      "metadata": {
        "id": "r1G-mEnCV3BH"
      }
    },
    {
      "cell_type": "markdown",
      "source": [
        "### Split / Preprocess Training and Testing Data"
      ],
      "metadata": {
        "id": "T635bLH201Xy"
      }
    },
    {
      "cell_type": "code",
      "execution_count": null,
      "metadata": {
        "id": "gpkT2WKBHMwE",
        "colab": {
          "base_uri": "https://localhost:8080/"
        },
        "outputId": "2315b29d-8f7e-4bba-f02f-bf60909f957b"
      },
      "outputs": [
        {
          "output_type": "stream",
          "name": "stdout",
          "text": [
            "X_train: (6851, 1), X_valid: (762, 1), y_train: (6851,), y_valid: (762,)\n"
          ]
        }
      ],
      "source": [
        "# create a method that will split the data into training and testing sets\n",
        "def split_data_frame(data_frame, target, test_size, shuffle=True):\n",
        "  X = data_frame.drop(columns=target)\n",
        "  y = data_frame[target]\n",
        "  X_train, X_valid, y_train, y_valid = train_test_split(X,y, test_size=test_size, shuffle=shuffle)\n",
        "  print(f'X_train: {X_train.shape}, X_valid: {X_valid.shape}, y_train: {y_train.shape}, y_valid: {y_valid.shape}')\n",
        "  return X_train, X_valid, y_train, y_valid\n",
        "\n",
        "X_train, X_valid, y_train, y_valid = split_data_frame(data_frame=HF_train, target='target', test_size=0.10)"
      ]
    },
    {
      "cell_type": "code",
      "source": [
        "# tokenizer from a pretrained bert model\n",
        "tokenizer = AutoTokenizer.from_pretrained('bert-base-cased')\n",
        "\n",
        "# create a tokenizer method\n",
        "def tokenize_reviews(X_train, X_valid, y_train, y_valid, X_test):\n",
        "  # Tokenize the reviews\n",
        "  token_train_data = tokenizer(X_train['text'].to_list(), return_tensors='np', padding=True)\n",
        "  token_valid_data = tokenizer(X_valid['text'].to_list(), return_tensors='np', padding=True)\n",
        "  token_test_data = tokenizer(X_test['text'].to_list(), return_tensors='np', padding=True)\n",
        "\n",
        "  # convert labels to a numpy array\n",
        "  train_labels = np.array(y_train)\n",
        "  valid_labels = np.array(y_valid)\n",
        "\n",
        "  return token_train_data, token_valid_data, train_labels, valid_labels, token_test_data"
      ],
      "metadata": {
        "id": "6PZgUPneDKE7",
        "colab": {
          "base_uri": "https://localhost:8080/",
          "height": 145,
          "referenced_widgets": [
            "6651246126414273bd997cfef66c625b",
            "a028bd29f989416f9e06040c5818c377",
            "7267e01e1580471e91fe2ff9c6269f35",
            "0d36f8a92bc745d6aa8b950ccb21797a",
            "12539e9ac8dd44788adee616b70bf9d0",
            "f2d9b8b1db1c437794503626771e8fc0",
            "d56ca604bf7c4f24b1ff6c4b080781e5",
            "fe5aa8a54197435b959a7d80c9e2046a",
            "44e5504f4ebc4da3a17749a223f0e766",
            "c5107e0fafce454cac5ae3a4a56e61b4",
            "b01311f54e69465386aa03a6ffeddbdd",
            "402400492eab4cdf8601a5c967defb5c",
            "7049be063f9b4d6b8635029bec05be50",
            "a8f8d8290c7b4dcebef8916cdc2577f7",
            "67f4fcb42bca4d4380f809787d32e7c1",
            "ebaed0a0417447659a24601b6b9083fb",
            "53d25da0da9e4de0aad495461306b077",
            "2ae30cc43cc94e8a85379c220e266155",
            "23fc76cbb91b4cbea32d8f4b5ec98a5c",
            "e2225d3a799e43948276dbf9c8774ba6",
            "b67c573c31c44849868266e9fa9bce94",
            "c91e2eafdeb6485586ca301f5d00121d",
            "40d80e8c6185440091e6288d37f41f0b",
            "7ebda79d17a94f89a34e3b196fd46f4c",
            "e27df3f2a45e45fb8408fa2d8b2cdc7b",
            "a9be028109a7495fa528124f6b937bde",
            "d26fd553a180493ca8617f79fb83f874",
            "94f0fe700418466099c05a777ea119ee",
            "70da3f9206034063a4ed2e53d848ebac",
            "ec2cee651bc446a1bd17f12acc6cd479",
            "75a7df0e1f6e4101ba26a138336c23b5",
            "1afd2caf0ceb414fbdcb2367ceead373",
            "b87103ea1e0047c8a72e6d89d0bc4357",
            "d7485225e26647b19e269f1f0703d0bc",
            "867871da9744466a980bfd13c045b78f",
            "984c97f7edfb4db493b1f75d693dffba",
            "21a55aab482548d8b33227588bd6e588",
            "86eb7e255c6c477792f0ead2b76153c5",
            "11ba94a468154c7bb1663612cc57d6d2",
            "2c2e3bf02cc64459ae419513d919f53e",
            "6153a918986b4408a82c059851108869",
            "d51f7dd15abf4c30ac4978663e3a80b4",
            "f6ca3fae39114f4398e7f03ab1722478",
            "3dcf8cdb54eb482ea3e09d57891a3b73"
          ]
        },
        "outputId": "57cdfc89-1015-476b-e164-f9c9de7c4718"
      },
      "execution_count": null,
      "outputs": [
        {
          "output_type": "display_data",
          "data": {
            "text/plain": [
              "Downloading (…)okenizer_config.json:   0%|          | 0.00/29.0 [00:00<?, ?B/s]"
            ],
            "application/vnd.jupyter.widget-view+json": {
              "version_major": 2,
              "version_minor": 0,
              "model_id": "6651246126414273bd997cfef66c625b"
            }
          },
          "metadata": {}
        },
        {
          "output_type": "display_data",
          "data": {
            "text/plain": [
              "Downloading (…)lve/main/config.json:   0%|          | 0.00/570 [00:00<?, ?B/s]"
            ],
            "application/vnd.jupyter.widget-view+json": {
              "version_major": 2,
              "version_minor": 0,
              "model_id": "402400492eab4cdf8601a5c967defb5c"
            }
          },
          "metadata": {}
        },
        {
          "output_type": "display_data",
          "data": {
            "text/plain": [
              "Downloading (…)solve/main/vocab.txt:   0%|          | 0.00/213k [00:00<?, ?B/s]"
            ],
            "application/vnd.jupyter.widget-view+json": {
              "version_major": 2,
              "version_minor": 0,
              "model_id": "40d80e8c6185440091e6288d37f41f0b"
            }
          },
          "metadata": {}
        },
        {
          "output_type": "display_data",
          "data": {
            "text/plain": [
              "Downloading (…)/main/tokenizer.json:   0%|          | 0.00/436k [00:00<?, ?B/s]"
            ],
            "application/vnd.jupyter.widget-view+json": {
              "version_major": 2,
              "version_minor": 0,
              "model_id": "d7485225e26647b19e269f1f0703d0bc"
            }
          },
          "metadata": {}
        }
      ]
    },
    {
      "cell_type": "code",
      "source": [
        "token_train_data, token_valid_data, train_labels, valid_labels, token_test_data = tokenize_reviews(X_train, X_valid, y_train, y_valid, HF_test)"
      ],
      "metadata": {
        "id": "9luc9R8TK7U4"
      },
      "execution_count": null,
      "outputs": []
    },
    {
      "cell_type": "code",
      "source": [
        "token_train_data['input_ids'][0]"
      ],
      "metadata": {
        "id": "uKeZQEQxHtGY",
        "colab": {
          "base_uri": "https://localhost:8080/"
        },
        "outputId": "c4edace5-2051-4e12-a0ca-6904fa46aeba"
      },
      "execution_count": null,
      "outputs": [
        {
          "output_type": "execute_result",
          "data": {
            "text/plain": [
              "array([  101,  1332, 13152,  1733, 17107, 15619,  1124,  3982,  6523,\n",
              "       17328, 15907,  1252,  1220,  6467,  1302,   146, 18747,  1124,\n",
              "        3982,  1398, 26949,  1706,   157,  3048,  6258,  8413,  1204,\n",
              "        2528,  2559, 10294,  4206,  1182,  2591,  2591,  1324,  1475,\n",
              "         102,     0,     0,     0,     0,     0,     0,     0,     0,\n",
              "           0,     0,     0,     0,     0,     0,     0,     0,     0,\n",
              "           0,     0,     0,     0,     0,     0,     0,     0,     0,\n",
              "           0,     0,     0,     0,     0,     0,     0,     0,     0,\n",
              "           0,     0,     0])"
            ]
          },
          "metadata": {},
          "execution_count": 7
        }
      ]
    },
    {
      "cell_type": "code",
      "source": [
        "token_test_data['input_ids'][0]"
      ],
      "metadata": {
        "colab": {
          "base_uri": "https://localhost:8080/"
        },
        "id": "ai8X-CFARB86",
        "outputId": "c7f59082-87c7-46bf-96c1-2b0fb5b23145"
      },
      "execution_count": null,
      "outputs": [
        {
          "output_type": "execute_result",
          "data": {
            "text/plain": [
              "array([ 101, 2066, 2171,  170, 6434, 1610, 5683,  102,    0,    0,    0,\n",
              "          0,    0,    0,    0,    0,    0,    0,    0,    0,    0,    0,\n",
              "          0,    0,    0,    0,    0,    0,    0,    0,    0,    0,    0,\n",
              "          0,    0,    0,    0,    0,    0,    0,    0,    0,    0,    0,\n",
              "          0,    0,    0,    0,    0,    0,    0,    0,    0,    0,    0,\n",
              "          0,    0,    0,    0,    0,    0,    0,    0,    0,    0,    0,\n",
              "          0,    0,    0,    0,    0,    0,    0,    0,    0,    0])"
            ]
          },
          "metadata": {},
          "execution_count": 8
        }
      ]
    },
    {
      "cell_type": "markdown",
      "metadata": {
        "id": "3xKjauG5LsEA"
      },
      "source": [
        "## Create and Train baseline model\n",
        "1) Create the model\n",
        "\n",
        "2) Compile the model\n",
        "\n",
        "3) Train the model\n",
        "\n",
        "4) Save the Model\n",
        "\n",
        "5) Plot Training Accuracy / Loss"
      ]
    },
    {
      "cell_type": "markdown",
      "source": [
        "### Create the model"
      ],
      "metadata": {
        "id": "31iX_xj35by1"
      }
    },
    {
      "cell_type": "code",
      "execution_count": null,
      "metadata": {
        "id": "qWVBVI5iIMWD"
      },
      "outputs": [],
      "source": [
        "# create a method to load the pre-trained model\n",
        "def load_pre_trained_model(model_name, NUM_LABELS):\n",
        "  # load the pretrained model 'bert-base-cased'\n",
        "  model = TFAutoModelForSequenceClassification.from_pretrained(model_name, num_labels=NUM_LABELS)\n",
        "\n",
        "  return model"
      ]
    },
    {
      "cell_type": "code",
      "source": [
        "model = load_pre_trained_model('bert-base-cased', 2)"
      ],
      "metadata": {
        "id": "MPdFsekRLP-4",
        "colab": {
          "base_uri": "https://localhost:8080/",
          "height": 137,
          "referenced_widgets": [
            "802642c31875493d951c05b56e1320e9",
            "a30dc663640d4b37854bcb8b1e291c0a",
            "1e3c2091b2644d48b96de565ec2ab177",
            "b5812c9efb02461198dd58c793395a3b",
            "00c7cb401aa04890bdb26f7a68826d15",
            "4d354970bfcb48d4ad80e544eaeeac08",
            "7d8ff47249014b60862d5a75180901a6",
            "1ae5d2ef035d4b9d9264e49d78e5f8e5",
            "c54b2c49e1bd454db6d367a501148c12",
            "3af705a981d24c4faa326d408c45c280",
            "865992634e13421c8ffae3c01775d871"
          ]
        },
        "outputId": "8b772206-2bea-4245-eb72-c94985f0943c"
      },
      "execution_count": null,
      "outputs": [
        {
          "output_type": "display_data",
          "data": {
            "text/plain": [
              "Downloading model.safetensors:   0%|          | 0.00/436M [00:00<?, ?B/s]"
            ],
            "application/vnd.jupyter.widget-view+json": {
              "version_major": 2,
              "version_minor": 0,
              "model_id": "802642c31875493d951c05b56e1320e9"
            }
          },
          "metadata": {}
        },
        {
          "output_type": "stream",
          "name": "stderr",
          "text": [
            "All PyTorch model weights were used when initializing TFBertForSequenceClassification.\n",
            "\n",
            "Some weights or buffers of the TF 2.0 model TFBertForSequenceClassification were not initialized from the PyTorch model and are newly initialized: ['classifier.weight', 'classifier.bias']\n",
            "You should probably TRAIN this model on a down-stream task to be able to use it for predictions and inference.\n"
          ]
        }
      ]
    },
    {
      "cell_type": "markdown",
      "source": [
        "### Compile the model"
      ],
      "metadata": {
        "id": "OscRzWXF5gQe"
      }
    },
    {
      "cell_type": "code",
      "source": [
        "# create a method to create the loss and compile the model\n",
        "def loss_and_compile(model):\n",
        "  # create the loss\n",
        "  loss = tf.keras.losses.SparseCategoricalCrossentropy(filter)\n",
        "\n",
        "  # compile the model\n",
        "  model.compile(optimizer=tf.keras.optimizers.Adam(5e-6), loss=loss, metrics=['accuracy'])\n",
        "\n",
        "  return model"
      ],
      "metadata": {
        "id": "uguw9ogZ5j-1"
      },
      "execution_count": null,
      "outputs": []
    },
    {
      "cell_type": "code",
      "source": [
        "model_1 = loss_and_compile(model)"
      ],
      "metadata": {
        "id": "q2PDq3D3Lkpf"
      },
      "execution_count": null,
      "outputs": []
    },
    {
      "cell_type": "markdown",
      "source": [
        "### Train the model"
      ],
      "metadata": {
        "id": "degOMgGr6eni"
      }
    },
    {
      "cell_type": "code",
      "source": [
        "# create a method to train the model\n",
        "def fit_model(model, BATCH_SIZE, EPOCHS, train_data, train_labels, val_data, val_labels):\n",
        "  # fit the model\n",
        "  history = model.fit(dict(train_data),\n",
        "            train_labels,\n",
        "            validation_data=(dict(val_data), val_labels),\n",
        "            batch_size=BATCH_SIZE,\n",
        "            epochs=EPOCHS)\n",
        "\n",
        "  return model, history"
      ],
      "metadata": {
        "id": "C8MInrPf6dL2"
      },
      "execution_count": null,
      "outputs": []
    },
    {
      "cell_type": "code",
      "source": [
        "model, history = fit_model(model_1, 64, 100, token_train_data, train_labels, token_valid_data, valid_labels)"
      ],
      "metadata": {
        "id": "2ElOFEKJL7nK",
        "colab": {
          "base_uri": "https://localhost:8080/"
        },
        "outputId": "196d0153-b2bc-44aa-b2fd-452e26e20d69"
      },
      "execution_count": null,
      "outputs": [
        {
          "output_type": "stream",
          "name": "stdout",
          "text": [
            "Epoch 1/100\n",
            "108/108 [==============================] - 161s 970ms/step - loss: 0.5786 - accuracy: 0.7098 - val_loss: 0.4288 - val_accuracy: 0.8228\n",
            "Epoch 2/100\n",
            "108/108 [==============================] - 102s 943ms/step - loss: 0.4170 - accuracy: 0.8259 - val_loss: 0.3816 - val_accuracy: 0.8399\n",
            "Epoch 3/100\n",
            "108/108 [==============================] - 103s 957ms/step - loss: 0.3730 - accuracy: 0.8475 - val_loss: 0.3733 - val_accuracy: 0.8543\n",
            "Epoch 4/100\n",
            "108/108 [==============================] - 103s 956ms/step - loss: 0.3316 - accuracy: 0.8708 - val_loss: 0.3881 - val_accuracy: 0.8399\n",
            "Epoch 5/100\n",
            "108/108 [==============================] - 103s 956ms/step - loss: 0.3175 - accuracy: 0.8790 - val_loss: 0.4051 - val_accuracy: 0.8346\n",
            "Epoch 6/100\n",
            "108/108 [==============================] - 103s 955ms/step - loss: 0.2747 - accuracy: 0.9000 - val_loss: 0.4186 - val_accuracy: 0.8386\n",
            "Epoch 7/100\n",
            "108/108 [==============================] - 102s 942ms/step - loss: 0.2492 - accuracy: 0.9098 - val_loss: 0.4201 - val_accuracy: 0.8412\n",
            "Epoch 8/100\n",
            "108/108 [==============================] - 103s 955ms/step - loss: 0.2225 - accuracy: 0.9215 - val_loss: 0.4512 - val_accuracy: 0.8294\n",
            "Epoch 9/100\n",
            "108/108 [==============================] - 103s 955ms/step - loss: 0.1930 - accuracy: 0.9369 - val_loss: 0.4907 - val_accuracy: 0.8307\n",
            "Epoch 10/100\n",
            "108/108 [==============================] - 103s 955ms/step - loss: 0.1788 - accuracy: 0.9409 - val_loss: 0.5026 - val_accuracy: 0.8215\n",
            "Epoch 11/100\n",
            "108/108 [==============================] - 102s 944ms/step - loss: 0.1541 - accuracy: 0.9494 - val_loss: 0.5470 - val_accuracy: 0.8241\n",
            "Epoch 12/100\n",
            "108/108 [==============================] - 101s 939ms/step - loss: 0.1480 - accuracy: 0.9518 - val_loss: 0.5326 - val_accuracy: 0.8307\n",
            "Epoch 13/100\n",
            "108/108 [==============================] - 103s 955ms/step - loss: 0.1259 - accuracy: 0.9591 - val_loss: 0.5510 - val_accuracy: 0.8360\n",
            "Epoch 14/100\n",
            "108/108 [==============================] - 102s 944ms/step - loss: 0.1166 - accuracy: 0.9603 - val_loss: 0.5708 - val_accuracy: 0.8360\n",
            "Epoch 15/100\n",
            "108/108 [==============================] - 103s 954ms/step - loss: 0.1123 - accuracy: 0.9638 - val_loss: 0.5709 - val_accuracy: 0.8268\n",
            "Epoch 16/100\n",
            "108/108 [==============================] - 103s 954ms/step - loss: 0.1004 - accuracy: 0.9656 - val_loss: 0.6280 - val_accuracy: 0.8281\n",
            "Epoch 17/100\n",
            "108/108 [==============================] - 103s 954ms/step - loss: 0.0907 - accuracy: 0.9680 - val_loss: 0.6334 - val_accuracy: 0.8307\n",
            "Epoch 18/100\n",
            "108/108 [==============================] - 103s 956ms/step - loss: 0.0865 - accuracy: 0.9683 - val_loss: 0.6357 - val_accuracy: 0.8189\n",
            "Epoch 19/100\n",
            "108/108 [==============================] - 102s 944ms/step - loss: 0.0827 - accuracy: 0.9704 - val_loss: 0.7083 - val_accuracy: 0.8202\n",
            "Epoch 20/100\n",
            "108/108 [==============================] - 103s 954ms/step - loss: 0.0745 - accuracy: 0.9723 - val_loss: 0.6854 - val_accuracy: 0.8346\n",
            "Epoch 21/100\n",
            "108/108 [==============================] - 103s 954ms/step - loss: 0.0671 - accuracy: 0.9739 - val_loss: 0.6895 - val_accuracy: 0.8307\n",
            "Epoch 22/100\n",
            "108/108 [==============================] - 103s 954ms/step - loss: 0.0623 - accuracy: 0.9730 - val_loss: 0.7317 - val_accuracy: 0.8241\n",
            "Epoch 23/100\n",
            "108/108 [==============================] - 103s 957ms/step - loss: 0.0580 - accuracy: 0.9752 - val_loss: 0.7212 - val_accuracy: 0.8373\n",
            "Epoch 24/100\n",
            "108/108 [==============================] - 102s 943ms/step - loss: 0.0510 - accuracy: 0.9785 - val_loss: 0.7981 - val_accuracy: 0.8202\n",
            "Epoch 25/100\n",
            "108/108 [==============================] - 101s 940ms/step - loss: 0.0482 - accuracy: 0.9793 - val_loss: 0.8141 - val_accuracy: 0.8176\n",
            "Epoch 26/100\n",
            "108/108 [==============================] - 103s 957ms/step - loss: 0.0488 - accuracy: 0.9771 - val_loss: 0.7947 - val_accuracy: 0.8294\n",
            "Epoch 27/100\n",
            "108/108 [==============================] - 103s 956ms/step - loss: 0.0437 - accuracy: 0.9793 - val_loss: 0.8131 - val_accuracy: 0.8307\n",
            "Epoch 28/100\n",
            "108/108 [==============================] - 103s 953ms/step - loss: 0.0374 - accuracy: 0.9838 - val_loss: 0.8471 - val_accuracy: 0.8294\n",
            "Epoch 29/100\n",
            "108/108 [==============================] - 103s 952ms/step - loss: 0.0379 - accuracy: 0.9828 - val_loss: 0.8705 - val_accuracy: 0.8215\n",
            "Epoch 30/100\n",
            "108/108 [==============================] - 103s 953ms/step - loss: 0.0386 - accuracy: 0.9826 - val_loss: 0.9102 - val_accuracy: 0.8268\n",
            "Epoch 31/100\n",
            "108/108 [==============================] - 103s 953ms/step - loss: 0.0428 - accuracy: 0.9828 - val_loss: 0.8854 - val_accuracy: 0.8346\n",
            "Epoch 32/100\n",
            "108/108 [==============================] - 103s 952ms/step - loss: 0.0340 - accuracy: 0.9854 - val_loss: 0.9292 - val_accuracy: 0.8228\n",
            "Epoch 33/100\n",
            "108/108 [==============================] - 103s 952ms/step - loss: 0.0335 - accuracy: 0.9869 - val_loss: 0.9298 - val_accuracy: 0.8241\n",
            "Epoch 34/100\n",
            "108/108 [==============================] - 103s 954ms/step - loss: 0.0287 - accuracy: 0.9899 - val_loss: 0.9245 - val_accuracy: 0.8268\n",
            "Epoch 35/100\n",
            "108/108 [==============================] - 103s 953ms/step - loss: 0.0250 - accuracy: 0.9905 - val_loss: 0.9724 - val_accuracy: 0.8202\n",
            "Epoch 36/100\n",
            "108/108 [==============================] - 103s 953ms/step - loss: 0.0258 - accuracy: 0.9911 - val_loss: 0.9672 - val_accuracy: 0.8255\n",
            "Epoch 37/100\n",
            "108/108 [==============================] - 103s 953ms/step - loss: 0.0257 - accuracy: 0.9910 - val_loss: 0.9651 - val_accuracy: 0.8268\n",
            "Epoch 38/100\n",
            "108/108 [==============================] - 103s 954ms/step - loss: 0.0263 - accuracy: 0.9921 - val_loss: 1.0250 - val_accuracy: 0.8202\n",
            "Epoch 39/100\n",
            "108/108 [==============================] - 103s 955ms/step - loss: 0.0272 - accuracy: 0.9899 - val_loss: 1.0078 - val_accuracy: 0.8189\n",
            "Epoch 40/100\n",
            "108/108 [==============================] - 103s 955ms/step - loss: 0.0208 - accuracy: 0.9927 - val_loss: 1.0073 - val_accuracy: 0.8176\n",
            "Epoch 41/100\n",
            "108/108 [==============================] - 103s 952ms/step - loss: 0.0199 - accuracy: 0.9918 - val_loss: 0.9943 - val_accuracy: 0.8281\n",
            "Epoch 42/100\n",
            "108/108 [==============================] - 103s 953ms/step - loss: 0.0174 - accuracy: 0.9924 - val_loss: 1.0402 - val_accuracy: 0.8268\n",
            "Epoch 43/100\n",
            "108/108 [==============================] - 102s 942ms/step - loss: 0.0200 - accuracy: 0.9926 - val_loss: 1.0372 - val_accuracy: 0.8268\n",
            "Epoch 44/100\n",
            "108/108 [==============================] - 103s 954ms/step - loss: 0.0198 - accuracy: 0.9927 - val_loss: 1.0764 - val_accuracy: 0.8189\n",
            "Epoch 45/100\n",
            "108/108 [==============================] - 103s 954ms/step - loss: 0.0194 - accuracy: 0.9923 - val_loss: 1.0129 - val_accuracy: 0.8241\n",
            "Epoch 46/100\n",
            "108/108 [==============================] - 102s 942ms/step - loss: 0.0166 - accuracy: 0.9937 - val_loss: 1.0644 - val_accuracy: 0.8268\n",
            "Epoch 47/100\n",
            "108/108 [==============================] - 102s 943ms/step - loss: 0.0148 - accuracy: 0.9933 - val_loss: 1.0776 - val_accuracy: 0.8241\n",
            "Epoch 48/100\n",
            "108/108 [==============================] - 103s 952ms/step - loss: 0.0149 - accuracy: 0.9937 - val_loss: 1.1111 - val_accuracy: 0.8228\n",
            "Epoch 49/100\n",
            "108/108 [==============================] - 102s 940ms/step - loss: 0.0151 - accuracy: 0.9942 - val_loss: 1.1216 - val_accuracy: 0.8202\n",
            "Epoch 50/100\n",
            "108/108 [==============================] - 103s 953ms/step - loss: 0.0162 - accuracy: 0.9940 - val_loss: 1.1144 - val_accuracy: 0.8241\n",
            "Epoch 51/100\n",
            "108/108 [==============================] - 103s 951ms/step - loss: 0.0155 - accuracy: 0.9934 - val_loss: 1.1348 - val_accuracy: 0.8241\n",
            "Epoch 52/100\n",
            "108/108 [==============================] - 103s 954ms/step - loss: 0.0169 - accuracy: 0.9928 - val_loss: 1.1256 - val_accuracy: 0.8228\n",
            "Epoch 53/100\n",
            "108/108 [==============================] - 103s 953ms/step - loss: 0.0193 - accuracy: 0.9931 - val_loss: 1.0884 - val_accuracy: 0.8202\n",
            "Epoch 54/100\n",
            "108/108 [==============================] - 103s 957ms/step - loss: 0.0161 - accuracy: 0.9934 - val_loss: 1.0871 - val_accuracy: 0.8294\n",
            "Epoch 55/100\n",
            "108/108 [==============================] - 103s 955ms/step - loss: 0.0125 - accuracy: 0.9946 - val_loss: 1.1615 - val_accuracy: 0.8268\n",
            "Epoch 56/100\n",
            "108/108 [==============================] - 102s 940ms/step - loss: 0.0139 - accuracy: 0.9943 - val_loss: 1.1023 - val_accuracy: 0.8307\n",
            "Epoch 57/100\n",
            "108/108 [==============================] - 103s 954ms/step - loss: 0.0135 - accuracy: 0.9949 - val_loss: 1.1290 - val_accuracy: 0.8255\n",
            "Epoch 58/100\n",
            "108/108 [==============================] - 103s 957ms/step - loss: 0.0112 - accuracy: 0.9961 - val_loss: 1.1589 - val_accuracy: 0.8215\n",
            "Epoch 59/100\n",
            "108/108 [==============================] - 103s 953ms/step - loss: 0.0133 - accuracy: 0.9950 - val_loss: 1.2147 - val_accuracy: 0.8189\n",
            "Epoch 60/100\n",
            "108/108 [==============================] - 103s 955ms/step - loss: 0.0197 - accuracy: 0.9926 - val_loss: 1.1156 - val_accuracy: 0.8189\n",
            "Epoch 61/100\n",
            "108/108 [==============================] - 103s 953ms/step - loss: 0.0124 - accuracy: 0.9952 - val_loss: 1.1586 - val_accuracy: 0.8202\n",
            "Epoch 62/100\n",
            "108/108 [==============================] - 103s 955ms/step - loss: 0.0161 - accuracy: 0.9942 - val_loss: 1.1649 - val_accuracy: 0.8136\n",
            "Epoch 63/100\n",
            "108/108 [==============================] - 102s 941ms/step - loss: 0.0118 - accuracy: 0.9947 - val_loss: 1.2171 - val_accuracy: 0.8228\n",
            "Epoch 64/100\n",
            "108/108 [==============================] - 102s 940ms/step - loss: 0.0134 - accuracy: 0.9940 - val_loss: 1.2024 - val_accuracy: 0.8241\n",
            "Epoch 65/100\n",
            "108/108 [==============================] - 103s 952ms/step - loss: 0.0121 - accuracy: 0.9945 - val_loss: 1.2208 - val_accuracy: 0.8294\n",
            "Epoch 66/100\n",
            "108/108 [==============================] - 103s 954ms/step - loss: 0.0132 - accuracy: 0.9950 - val_loss: 1.1840 - val_accuracy: 0.8255\n",
            "Epoch 67/100\n",
            "108/108 [==============================] - 103s 953ms/step - loss: 0.0147 - accuracy: 0.9928 - val_loss: 1.1358 - val_accuracy: 0.8255\n",
            "Epoch 68/100\n",
            "108/108 [==============================] - 103s 953ms/step - loss: 0.0123 - accuracy: 0.9949 - val_loss: 1.1609 - val_accuracy: 0.8307\n",
            "Epoch 69/100\n",
            "108/108 [==============================] - 102s 941ms/step - loss: 0.0104 - accuracy: 0.9950 - val_loss: 1.2425 - val_accuracy: 0.8241\n",
            "Epoch 70/100\n",
            "108/108 [==============================] - 103s 958ms/step - loss: 0.0165 - accuracy: 0.9939 - val_loss: 1.1602 - val_accuracy: 0.8202\n",
            "Epoch 71/100\n",
            "108/108 [==============================] - 103s 953ms/step - loss: 0.0122 - accuracy: 0.9947 - val_loss: 1.1855 - val_accuracy: 0.8255\n",
            "Epoch 72/100\n",
            "108/108 [==============================] - 103s 954ms/step - loss: 0.0091 - accuracy: 0.9956 - val_loss: 1.2252 - val_accuracy: 0.8268\n",
            "Epoch 73/100\n",
            "108/108 [==============================] - 103s 954ms/step - loss: 0.0086 - accuracy: 0.9959 - val_loss: 1.2142 - val_accuracy: 0.8294\n",
            "Epoch 74/100\n",
            "108/108 [==============================] - 102s 942ms/step - loss: 0.0082 - accuracy: 0.9968 - val_loss: 1.2989 - val_accuracy: 0.8255\n",
            "Epoch 75/100\n",
            "108/108 [==============================] - 103s 956ms/step - loss: 0.0117 - accuracy: 0.9946 - val_loss: 1.2585 - val_accuracy: 0.8320\n",
            "Epoch 76/100\n",
            "108/108 [==============================] - 103s 953ms/step - loss: 0.0101 - accuracy: 0.9962 - val_loss: 1.2858 - val_accuracy: 0.8136\n",
            "Epoch 77/100\n",
            "108/108 [==============================] - 103s 956ms/step - loss: 0.0182 - accuracy: 0.9930 - val_loss: 1.0972 - val_accuracy: 0.8373\n",
            "Epoch 78/100\n",
            "108/108 [==============================] - 103s 954ms/step - loss: 0.0189 - accuracy: 0.9915 - val_loss: 1.1034 - val_accuracy: 0.8307\n",
            "Epoch 79/100\n",
            "108/108 [==============================] - 102s 941ms/step - loss: 0.0108 - accuracy: 0.9958 - val_loss: 1.1478 - val_accuracy: 0.8346\n",
            "Epoch 80/100\n",
            "108/108 [==============================] - 102s 943ms/step - loss: 0.0088 - accuracy: 0.9962 - val_loss: 1.2005 - val_accuracy: 0.8241\n",
            "Epoch 81/100\n",
            "108/108 [==============================] - 103s 953ms/step - loss: 0.0115 - accuracy: 0.9949 - val_loss: 1.1780 - val_accuracy: 0.8228\n",
            "Epoch 82/100\n",
            "108/108 [==============================] - 103s 953ms/step - loss: 0.0081 - accuracy: 0.9964 - val_loss: 1.2128 - val_accuracy: 0.8215\n",
            "Epoch 83/100\n",
            "108/108 [==============================] - 102s 941ms/step - loss: 0.0078 - accuracy: 0.9962 - val_loss: 1.2670 - val_accuracy: 0.8294\n",
            "Epoch 84/100\n",
            "108/108 [==============================] - 102s 942ms/step - loss: 0.0108 - accuracy: 0.9947 - val_loss: 1.2809 - val_accuracy: 0.8255\n",
            "Epoch 85/100\n",
            "108/108 [==============================] - 103s 952ms/step - loss: 0.0118 - accuracy: 0.9949 - val_loss: 1.1736 - val_accuracy: 0.8281\n",
            "Epoch 86/100\n",
            "108/108 [==============================] - 103s 953ms/step - loss: 0.0078 - accuracy: 0.9961 - val_loss: 1.2516 - val_accuracy: 0.8123\n",
            "Epoch 87/100\n",
            "108/108 [==============================] - 103s 951ms/step - loss: 0.0092 - accuracy: 0.9956 - val_loss: 1.2826 - val_accuracy: 0.8255\n",
            "Epoch 88/100\n",
            "108/108 [==============================] - 103s 957ms/step - loss: 0.0081 - accuracy: 0.9958 - val_loss: 1.3007 - val_accuracy: 0.8294\n",
            "Epoch 89/100\n",
            "108/108 [==============================] - 103s 955ms/step - loss: 0.0063 - accuracy: 0.9964 - val_loss: 1.2880 - val_accuracy: 0.8215\n",
            "Epoch 90/100\n",
            "108/108 [==============================] - 103s 955ms/step - loss: 0.0083 - accuracy: 0.9956 - val_loss: 1.3106 - val_accuracy: 0.8241\n",
            "Epoch 91/100\n",
            "108/108 [==============================] - 103s 953ms/step - loss: 0.0110 - accuracy: 0.9956 - val_loss: 1.2030 - val_accuracy: 0.8255\n",
            "Epoch 92/100\n",
            "108/108 [==============================] - 103s 954ms/step - loss: 0.0067 - accuracy: 0.9969 - val_loss: 1.2680 - val_accuracy: 0.8215\n",
            "Epoch 93/100\n",
            "108/108 [==============================] - 102s 942ms/step - loss: 0.0090 - accuracy: 0.9952 - val_loss: 1.3041 - val_accuracy: 0.8189\n",
            "Epoch 94/100\n",
            "108/108 [==============================] - 103s 954ms/step - loss: 0.0105 - accuracy: 0.9946 - val_loss: 1.2535 - val_accuracy: 0.8150\n",
            "Epoch 95/100\n",
            "108/108 [==============================] - 102s 942ms/step - loss: 0.0107 - accuracy: 0.9956 - val_loss: 1.2605 - val_accuracy: 0.8307\n",
            "Epoch 96/100\n",
            "108/108 [==============================] - 103s 954ms/step - loss: 0.0081 - accuracy: 0.9964 - val_loss: 1.2895 - val_accuracy: 0.8228\n",
            "Epoch 97/100\n",
            "108/108 [==============================] - 103s 953ms/step - loss: 0.0067 - accuracy: 0.9961 - val_loss: 1.2886 - val_accuracy: 0.8373\n",
            "Epoch 98/100\n",
            "108/108 [==============================] - 103s 953ms/step - loss: 0.0063 - accuracy: 0.9966 - val_loss: 1.3324 - val_accuracy: 0.8281\n",
            "Epoch 99/100\n",
            "108/108 [==============================] - 102s 943ms/step - loss: 0.0114 - accuracy: 0.9947 - val_loss: 1.2444 - val_accuracy: 0.8268\n",
            "Epoch 100/100\n",
            "108/108 [==============================] - 103s 953ms/step - loss: 0.0098 - accuracy: 0.9959 - val_loss: 1.2241 - val_accuracy: 0.8268\n"
          ]
        }
      ]
    },
    {
      "cell_type": "markdown",
      "source": [
        "####Save the Model\n",
        "\n"
      ],
      "metadata": {
        "id": "gG7xw_F4sTs7"
      }
    },
    {
      "cell_type": "code",
      "source": [
        "model.save('/content/drive/My Drive/Disaster_Tweets/disaster_tweets_model', save_format=\"keras\")"
      ],
      "metadata": {
        "id": "L2p0Xtiusj-O",
        "colab": {
          "base_uri": "https://localhost:8080/"
        },
        "outputId": "a3165305-b40b-4ad8-bd85-fc753fb65a22"
      },
      "execution_count": null,
      "outputs": [
        {
          "output_type": "stream",
          "name": "stderr",
          "text": [
            "WARNING:absl:Found untraced functions such as serving, embeddings_layer_call_fn, embeddings_layer_call_and_return_conditional_losses, encoder_layer_call_fn, encoder_layer_call_and_return_conditional_losses while saving (showing 5 of 421). These functions will not be directly callable after loading.\n"
          ]
        }
      ]
    },
    {
      "cell_type": "markdown",
      "source": [
        "#### Plot Training Accuracy / Loss"
      ],
      "metadata": {
        "id": "hsFyyz_iSn4m"
      }
    },
    {
      "cell_type": "code",
      "source": [
        "loss = history.history['loss']\n",
        "val_loss = history.history['val_loss']\n",
        "acc = history.history['accuracy']\n",
        "val_acc = history.history['val_accuracy']"
      ],
      "metadata": {
        "id": "A4lyo6BDuqPh"
      },
      "execution_count": null,
      "outputs": []
    },
    {
      "cell_type": "code",
      "source": [
        "def plot_train_loss_and_accuracy(train_loss, train_accuracy):\n",
        "    # Create a figure with Plotly\n",
        "    fig = go.Figure()\n",
        "\n",
        "    # Add traces for training loss and accuracy\n",
        "    fig.add_trace(go.Scatter(x=list(range(1, len(train_loss) + 1)), y=train_loss, mode='lines', name='Training Loss', yaxis='y1'))\n",
        "    fig.add_trace(go.Scatter(x=list(range(1, len(train_accuracy) + 1)), y=train_accuracy, mode='lines', name='Training Accuracy', yaxis='y2'))\n",
        "\n",
        "    # Update layout and labels\n",
        "    fig.update_layout(title='Training Loss and Accuracy vs. Epochs',\n",
        "                      xaxis=dict(title='Epochs'),\n",
        "                      yaxis=dict(title='Training Loss', side='left', showgrid=False),\n",
        "                      yaxis2=dict(title='Training Accuracy', side='right', overlaying='y', showgrid=False))\n",
        "\n",
        "    fig.show()\n",
        "\n",
        "plot_train_loss_and_accuracy(loss, acc)"
      ],
      "metadata": {
        "id": "4rOXliuhRxP0",
        "colab": {
          "base_uri": "https://localhost:8080/",
          "height": 542
        },
        "outputId": "28b2dc46-3873-4e21-817c-35ccde7069c1"
      },
      "execution_count": null,
      "outputs": [
        {
          "output_type": "display_data",
          "data": {
            "text/html": [
              "<html>\n",
              "<head><meta charset=\"utf-8\" /></head>\n",
              "<body>\n",
              "    <div>            <script src=\"https://cdnjs.cloudflare.com/ajax/libs/mathjax/2.7.5/MathJax.js?config=TeX-AMS-MML_SVG\"></script><script type=\"text/javascript\">if (window.MathJax && window.MathJax.Hub && window.MathJax.Hub.Config) {window.MathJax.Hub.Config({SVG: {font: \"STIX-Web\"}});}</script>                <script type=\"text/javascript\">window.PlotlyConfig = {MathJaxConfig: 'local'};</script>\n",
              "        <script charset=\"utf-8\" src=\"https://cdn.plot.ly/plotly-2.24.1.min.js\"></script>                <div id=\"4e53b926-230f-46ba-b41b-5dc6af8a7d86\" class=\"plotly-graph-div\" style=\"height:525px; width:100%;\"></div>            <script type=\"text/javascript\">                                    window.PLOTLYENV=window.PLOTLYENV || {};                                    if (document.getElementById(\"4e53b926-230f-46ba-b41b-5dc6af8a7d86\")) {                    Plotly.newPlot(                        \"4e53b926-230f-46ba-b41b-5dc6af8a7d86\",                        [{\"mode\":\"lines\",\"name\":\"Training Loss\",\"x\":[1,2,3,4,5,6,7,8,9,10,11,12,13,14,15,16,17,18,19,20,21,22,23,24,25,26,27,28,29,30,31,32,33,34,35,36,37,38,39,40,41,42,43,44,45,46,47,48,49,50,51,52,53,54,55,56,57,58,59,60,61,62,63,64,65,66,67,68,69,70,71,72,73,74,75,76,77,78,79,80,81,82,83,84,85,86,87,88,89,90,91,92,93,94,95,96,97,98,99,100],\"y\":[0.578635573387146,0.4169892966747284,0.37304002046585083,0.3316289484500885,0.31747570633888245,0.27474305033683777,0.24921979010105133,0.22247137129306793,0.19299881160259247,0.17877420783042908,0.15407569706439972,0.1480395346879959,0.12594565749168396,0.11662062257528305,0.11233776807785034,0.10036136955022812,0.0907352939248085,0.08649419993162155,0.08265424519777298,0.07447582483291626,0.0670701339840889,0.06229393184185028,0.05798646807670593,0.05104394257068634,0.048230674117803574,0.04882185906171799,0.043690361082553864,0.03736279159784317,0.03789857402443886,0.038619641214609146,0.04280177131295204,0.034026674926280975,0.03345403075218201,0.02866336517035961,0.024975448846817017,0.025752630084753036,0.025708667933940887,0.02628226764500141,0.027175964787602425,0.02081013098359108,0.019895542412996292,0.01740492321550846,0.020029494538903236,0.019770639017224312,0.019379381090402603,0.016599413007497787,0.014824140816926956,0.014940737746655941,0.015149303711950779,0.016244621947407722,0.015528514049947262,0.016928646713495255,0.019283516332507133,0.01610577292740345,0.01253530103713274,0.013897020369768143,0.013505225069820881,0.01121849287301302,0.013304264284670353,0.019663130864501,0.01241967361420393,0.016093697398900986,0.011832065880298615,0.013383427634835243,0.012098808772861958,0.013237577863037586,0.014724969863891602,0.012349394150078297,0.010396812111139297,0.016516920179128647,0.012167852371931076,0.00905395857989788,0.008614113554358482,0.008179869502782822,0.01172149833291769,0.010092836804687977,0.018176058307290077,0.018900098279118538,0.010844109579920769,0.008795102126896381,0.011526044458150864,0.008091017603874207,0.007770649157464504,0.010798647999763489,0.011800228618085384,0.007761772256344557,0.009220585227012634,0.00805757287889719,0.006293055135756731,0.008285374380648136,0.011045997031033039,0.006714746821671724,0.008955556899309158,0.010539000853896141,0.01069689355790615,0.008065057918429375,0.006654741708189249,0.00628171069547534,0.011362244375050068,0.009785139933228493],\"yaxis\":\"y\",\"type\":\"scatter\"},{\"mode\":\"lines\",\"name\":\"Training Accuracy\",\"x\":[1,2,3,4,5,6,7,8,9,10,11,12,13,14,15,16,17,18,19,20,21,22,23,24,25,26,27,28,29,30,31,32,33,34,35,36,37,38,39,40,41,42,43,44,45,46,47,48,49,50,51,52,53,54,55,56,57,58,59,60,61,62,63,64,65,66,67,68,69,70,71,72,73,74,75,76,77,78,79,80,81,82,83,84,85,86,87,88,89,90,91,92,93,94,95,96,97,98,99,100],\"y\":[0.7098233699798584,0.825864851474762,0.8474675416946411,0.8708217740058899,0.8789957761764526,0.9000145792961121,0.9097942113876343,0.9214712977409363,0.936943531036377,0.940884530544281,0.9493504762649536,0.9518318772315979,0.959130048751831,0.9602977633476257,0.9638009071350098,0.9655524492263794,0.9680338501930237,0.9683257937431335,0.970369279384613,0.9722667932510376,0.9738724231719971,0.9729966521263123,0.9751861095428467,0.9785432815551758,0.9792730808258057,0.9770836234092712,0.9792730808258057,0.9837979674339294,0.9827762246131897,0.9826302528381348,0.9827762246131897,0.9854035973548889,0.9868632555007935,0.9899284839630127,0.9905123114585876,0.9910961985588074,0.9909502267837524,0.9921179413795471,0.9899284839630127,0.9927017688751221,0.9918259978294373,0.992409884929657,0.9925558567047119,0.9927017688751221,0.992263913154602,0.9937235713005066,0.9932856559753418,0.9937235713005066,0.9941614270210266,0.9940154552459717,0.9934316277503967,0.992847740650177,0.9931396842002869,0.9934316277503967,0.9945993423461914,0.9943073987960815,0.9948912858963013,0.9960589408874512,0.9950371980667114,0.9925558567047119,0.9951831698417664,0.9941614270210266,0.9947453141212463,0.9940154552459717,0.9944533705711365,0.9950371980667114,0.992847740650177,0.9948912858963013,0.9950371980667114,0.9938694834709167,0.9947453141212463,0.9956210851669312,0.995913028717041,0.9967887997627258,0.9945993423461914,0.9962049126625061,0.9929937124252319,0.9915340542793274,0.9957670569419861,0.9962049126625061,0.9948912858963013,0.996350884437561,0.9962049126625061,0.9947453141212463,0.9948912858963013,0.9960589408874512,0.9956210851669312,0.9957670569419861,0.996350884437561,0.9956210851669312,0.9956210851669312,0.9969347715377808,0.9951831698417664,0.9945993423461914,0.9956210851669312,0.996350884437561,0.9960589408874512,0.9966428279876709,0.9947453141212463,0.995913028717041],\"yaxis\":\"y2\",\"type\":\"scatter\"}],                        {\"template\":{\"data\":{\"histogram2dcontour\":[{\"type\":\"histogram2dcontour\",\"colorbar\":{\"outlinewidth\":0,\"ticks\":\"\"},\"colorscale\":[[0.0,\"#0d0887\"],[0.1111111111111111,\"#46039f\"],[0.2222222222222222,\"#7201a8\"],[0.3333333333333333,\"#9c179e\"],[0.4444444444444444,\"#bd3786\"],[0.5555555555555556,\"#d8576b\"],[0.6666666666666666,\"#ed7953\"],[0.7777777777777778,\"#fb9f3a\"],[0.8888888888888888,\"#fdca26\"],[1.0,\"#f0f921\"]]}],\"choropleth\":[{\"type\":\"choropleth\",\"colorbar\":{\"outlinewidth\":0,\"ticks\":\"\"}}],\"histogram2d\":[{\"type\":\"histogram2d\",\"colorbar\":{\"outlinewidth\":0,\"ticks\":\"\"},\"colorscale\":[[0.0,\"#0d0887\"],[0.1111111111111111,\"#46039f\"],[0.2222222222222222,\"#7201a8\"],[0.3333333333333333,\"#9c179e\"],[0.4444444444444444,\"#bd3786\"],[0.5555555555555556,\"#d8576b\"],[0.6666666666666666,\"#ed7953\"],[0.7777777777777778,\"#fb9f3a\"],[0.8888888888888888,\"#fdca26\"],[1.0,\"#f0f921\"]]}],\"heatmap\":[{\"type\":\"heatmap\",\"colorbar\":{\"outlinewidth\":0,\"ticks\":\"\"},\"colorscale\":[[0.0,\"#0d0887\"],[0.1111111111111111,\"#46039f\"],[0.2222222222222222,\"#7201a8\"],[0.3333333333333333,\"#9c179e\"],[0.4444444444444444,\"#bd3786\"],[0.5555555555555556,\"#d8576b\"],[0.6666666666666666,\"#ed7953\"],[0.7777777777777778,\"#fb9f3a\"],[0.8888888888888888,\"#fdca26\"],[1.0,\"#f0f921\"]]}],\"heatmapgl\":[{\"type\":\"heatmapgl\",\"colorbar\":{\"outlinewidth\":0,\"ticks\":\"\"},\"colorscale\":[[0.0,\"#0d0887\"],[0.1111111111111111,\"#46039f\"],[0.2222222222222222,\"#7201a8\"],[0.3333333333333333,\"#9c179e\"],[0.4444444444444444,\"#bd3786\"],[0.5555555555555556,\"#d8576b\"],[0.6666666666666666,\"#ed7953\"],[0.7777777777777778,\"#fb9f3a\"],[0.8888888888888888,\"#fdca26\"],[1.0,\"#f0f921\"]]}],\"contourcarpet\":[{\"type\":\"contourcarpet\",\"colorbar\":{\"outlinewidth\":0,\"ticks\":\"\"}}],\"contour\":[{\"type\":\"contour\",\"colorbar\":{\"outlinewidth\":0,\"ticks\":\"\"},\"colorscale\":[[0.0,\"#0d0887\"],[0.1111111111111111,\"#46039f\"],[0.2222222222222222,\"#7201a8\"],[0.3333333333333333,\"#9c179e\"],[0.4444444444444444,\"#bd3786\"],[0.5555555555555556,\"#d8576b\"],[0.6666666666666666,\"#ed7953\"],[0.7777777777777778,\"#fb9f3a\"],[0.8888888888888888,\"#fdca26\"],[1.0,\"#f0f921\"]]}],\"surface\":[{\"type\":\"surface\",\"colorbar\":{\"outlinewidth\":0,\"ticks\":\"\"},\"colorscale\":[[0.0,\"#0d0887\"],[0.1111111111111111,\"#46039f\"],[0.2222222222222222,\"#7201a8\"],[0.3333333333333333,\"#9c179e\"],[0.4444444444444444,\"#bd3786\"],[0.5555555555555556,\"#d8576b\"],[0.6666666666666666,\"#ed7953\"],[0.7777777777777778,\"#fb9f3a\"],[0.8888888888888888,\"#fdca26\"],[1.0,\"#f0f921\"]]}],\"mesh3d\":[{\"type\":\"mesh3d\",\"colorbar\":{\"outlinewidth\":0,\"ticks\":\"\"}}],\"scatter\":[{\"fillpattern\":{\"fillmode\":\"overlay\",\"size\":10,\"solidity\":0.2},\"type\":\"scatter\"}],\"parcoords\":[{\"type\":\"parcoords\",\"line\":{\"colorbar\":{\"outlinewidth\":0,\"ticks\":\"\"}}}],\"scatterpolargl\":[{\"type\":\"scatterpolargl\",\"marker\":{\"colorbar\":{\"outlinewidth\":0,\"ticks\":\"\"}}}],\"bar\":[{\"error_x\":{\"color\":\"#2a3f5f\"},\"error_y\":{\"color\":\"#2a3f5f\"},\"marker\":{\"line\":{\"color\":\"#E5ECF6\",\"width\":0.5},\"pattern\":{\"fillmode\":\"overlay\",\"size\":10,\"solidity\":0.2}},\"type\":\"bar\"}],\"scattergeo\":[{\"type\":\"scattergeo\",\"marker\":{\"colorbar\":{\"outlinewidth\":0,\"ticks\":\"\"}}}],\"scatterpolar\":[{\"type\":\"scatterpolar\",\"marker\":{\"colorbar\":{\"outlinewidth\":0,\"ticks\":\"\"}}}],\"histogram\":[{\"marker\":{\"pattern\":{\"fillmode\":\"overlay\",\"size\":10,\"solidity\":0.2}},\"type\":\"histogram\"}],\"scattergl\":[{\"type\":\"scattergl\",\"marker\":{\"colorbar\":{\"outlinewidth\":0,\"ticks\":\"\"}}}],\"scatter3d\":[{\"type\":\"scatter3d\",\"line\":{\"colorbar\":{\"outlinewidth\":0,\"ticks\":\"\"}},\"marker\":{\"colorbar\":{\"outlinewidth\":0,\"ticks\":\"\"}}}],\"scattermapbox\":[{\"type\":\"scattermapbox\",\"marker\":{\"colorbar\":{\"outlinewidth\":0,\"ticks\":\"\"}}}],\"scatterternary\":[{\"type\":\"scatterternary\",\"marker\":{\"colorbar\":{\"outlinewidth\":0,\"ticks\":\"\"}}}],\"scattercarpet\":[{\"type\":\"scattercarpet\",\"marker\":{\"colorbar\":{\"outlinewidth\":0,\"ticks\":\"\"}}}],\"carpet\":[{\"aaxis\":{\"endlinecolor\":\"#2a3f5f\",\"gridcolor\":\"white\",\"linecolor\":\"white\",\"minorgridcolor\":\"white\",\"startlinecolor\":\"#2a3f5f\"},\"baxis\":{\"endlinecolor\":\"#2a3f5f\",\"gridcolor\":\"white\",\"linecolor\":\"white\",\"minorgridcolor\":\"white\",\"startlinecolor\":\"#2a3f5f\"},\"type\":\"carpet\"}],\"table\":[{\"cells\":{\"fill\":{\"color\":\"#EBF0F8\"},\"line\":{\"color\":\"white\"}},\"header\":{\"fill\":{\"color\":\"#C8D4E3\"},\"line\":{\"color\":\"white\"}},\"type\":\"table\"}],\"barpolar\":[{\"marker\":{\"line\":{\"color\":\"#E5ECF6\",\"width\":0.5},\"pattern\":{\"fillmode\":\"overlay\",\"size\":10,\"solidity\":0.2}},\"type\":\"barpolar\"}],\"pie\":[{\"automargin\":true,\"type\":\"pie\"}]},\"layout\":{\"autotypenumbers\":\"strict\",\"colorway\":[\"#636efa\",\"#EF553B\",\"#00cc96\",\"#ab63fa\",\"#FFA15A\",\"#19d3f3\",\"#FF6692\",\"#B6E880\",\"#FF97FF\",\"#FECB52\"],\"font\":{\"color\":\"#2a3f5f\"},\"hovermode\":\"closest\",\"hoverlabel\":{\"align\":\"left\"},\"paper_bgcolor\":\"white\",\"plot_bgcolor\":\"#E5ECF6\",\"polar\":{\"bgcolor\":\"#E5ECF6\",\"angularaxis\":{\"gridcolor\":\"white\",\"linecolor\":\"white\",\"ticks\":\"\"},\"radialaxis\":{\"gridcolor\":\"white\",\"linecolor\":\"white\",\"ticks\":\"\"}},\"ternary\":{\"bgcolor\":\"#E5ECF6\",\"aaxis\":{\"gridcolor\":\"white\",\"linecolor\":\"white\",\"ticks\":\"\"},\"baxis\":{\"gridcolor\":\"white\",\"linecolor\":\"white\",\"ticks\":\"\"},\"caxis\":{\"gridcolor\":\"white\",\"linecolor\":\"white\",\"ticks\":\"\"}},\"coloraxis\":{\"colorbar\":{\"outlinewidth\":0,\"ticks\":\"\"}},\"colorscale\":{\"sequential\":[[0.0,\"#0d0887\"],[0.1111111111111111,\"#46039f\"],[0.2222222222222222,\"#7201a8\"],[0.3333333333333333,\"#9c179e\"],[0.4444444444444444,\"#bd3786\"],[0.5555555555555556,\"#d8576b\"],[0.6666666666666666,\"#ed7953\"],[0.7777777777777778,\"#fb9f3a\"],[0.8888888888888888,\"#fdca26\"],[1.0,\"#f0f921\"]],\"sequentialminus\":[[0.0,\"#0d0887\"],[0.1111111111111111,\"#46039f\"],[0.2222222222222222,\"#7201a8\"],[0.3333333333333333,\"#9c179e\"],[0.4444444444444444,\"#bd3786\"],[0.5555555555555556,\"#d8576b\"],[0.6666666666666666,\"#ed7953\"],[0.7777777777777778,\"#fb9f3a\"],[0.8888888888888888,\"#fdca26\"],[1.0,\"#f0f921\"]],\"diverging\":[[0,\"#8e0152\"],[0.1,\"#c51b7d\"],[0.2,\"#de77ae\"],[0.3,\"#f1b6da\"],[0.4,\"#fde0ef\"],[0.5,\"#f7f7f7\"],[0.6,\"#e6f5d0\"],[0.7,\"#b8e186\"],[0.8,\"#7fbc41\"],[0.9,\"#4d9221\"],[1,\"#276419\"]]},\"xaxis\":{\"gridcolor\":\"white\",\"linecolor\":\"white\",\"ticks\":\"\",\"title\":{\"standoff\":15},\"zerolinecolor\":\"white\",\"automargin\":true,\"zerolinewidth\":2},\"yaxis\":{\"gridcolor\":\"white\",\"linecolor\":\"white\",\"ticks\":\"\",\"title\":{\"standoff\":15},\"zerolinecolor\":\"white\",\"automargin\":true,\"zerolinewidth\":2},\"scene\":{\"xaxis\":{\"backgroundcolor\":\"#E5ECF6\",\"gridcolor\":\"white\",\"linecolor\":\"white\",\"showbackground\":true,\"ticks\":\"\",\"zerolinecolor\":\"white\",\"gridwidth\":2},\"yaxis\":{\"backgroundcolor\":\"#E5ECF6\",\"gridcolor\":\"white\",\"linecolor\":\"white\",\"showbackground\":true,\"ticks\":\"\",\"zerolinecolor\":\"white\",\"gridwidth\":2},\"zaxis\":{\"backgroundcolor\":\"#E5ECF6\",\"gridcolor\":\"white\",\"linecolor\":\"white\",\"showbackground\":true,\"ticks\":\"\",\"zerolinecolor\":\"white\",\"gridwidth\":2}},\"shapedefaults\":{\"line\":{\"color\":\"#2a3f5f\"}},\"annotationdefaults\":{\"arrowcolor\":\"#2a3f5f\",\"arrowhead\":0,\"arrowwidth\":1},\"geo\":{\"bgcolor\":\"white\",\"landcolor\":\"#E5ECF6\",\"subunitcolor\":\"white\",\"showland\":true,\"showlakes\":true,\"lakecolor\":\"white\"},\"title\":{\"x\":0.05},\"mapbox\":{\"style\":\"light\"}}},\"yaxis\":{\"title\":{\"text\":\"Training Loss\"},\"side\":\"left\",\"showgrid\":false},\"yaxis2\":{\"title\":{\"text\":\"Training Accuracy\"},\"side\":\"right\",\"overlaying\":\"y\",\"showgrid\":false},\"title\":{\"text\":\"Training Loss and Accuracy vs. Epochs\"},\"xaxis\":{\"title\":{\"text\":\"Epochs\"}}},                        {\"responsive\": true}                    ).then(function(){\n",
              "                            \n",
              "var gd = document.getElementById('4e53b926-230f-46ba-b41b-5dc6af8a7d86');\n",
              "var x = new MutationObserver(function (mutations, observer) {{\n",
              "        var display = window.getComputedStyle(gd).display;\n",
              "        if (!display || display === 'none') {{\n",
              "            console.log([gd, 'removed!']);\n",
              "            Plotly.purge(gd);\n",
              "            observer.disconnect();\n",
              "        }}\n",
              "}});\n",
              "\n",
              "// Listen for the removal of the full notebook cells\n",
              "var notebookContainer = gd.closest('#notebook-container');\n",
              "if (notebookContainer) {{\n",
              "    x.observe(notebookContainer, {childList: true});\n",
              "}}\n",
              "\n",
              "// Listen for the clearing of the current output cell\n",
              "var outputEl = gd.closest('.output');\n",
              "if (outputEl) {{\n",
              "    x.observe(outputEl, {childList: true});\n",
              "}}\n",
              "\n",
              "                        })                };                            </script>        </div>\n",
              "</body>\n",
              "</html>"
            ]
          },
          "metadata": {}
        }
      ]
    },
    {
      "cell_type": "markdown",
      "source": [
        "Notice that the validation loss increases over time, and the validation accuracy decreases over time. Both the accuracy and loss seem to be unstable. There appears to be overfitting in this model. Changing the learning rate and or employing early stopping techniques may improve this model."
      ],
      "metadata": {
        "id": "ozf1uwg39utq"
      }
    },
    {
      "cell_type": "code",
      "source": [
        "def plot_valid_loss_and_accuracy(val_loss, val_accuracy):\n",
        "    # Create a figure with Plotly\n",
        "    fig = go.Figure()\n",
        "\n",
        "    # Add traces for validation loss and accuracy\n",
        "    fig.add_trace(go.Scatter(x=list(range(1, len(val_loss) + 1)), y=val_loss, mode='lines', name='Validation Loss', yaxis='y1'))\n",
        "    fig.add_trace(go.Scatter(x=list(range(1, len(val_accuracy) + 1)), y=val_accuracy, mode='lines', name='Validation Accuracy', yaxis='y2'))\n",
        "\n",
        "    # Update layout and labels\n",
        "    fig.update_layout(title='Validation Loss and Accuracy vs. Epochs',\n",
        "                      xaxis=dict(title='Epochs'),\n",
        "                      yaxis=dict(title='Validation Loss', side='left', showgrid=False),\n",
        "                      yaxis2=dict(title='Validation Accuracy', side='right', overlaying='y', showgrid=False))\n",
        "\n",
        "    fig.show()\n",
        "\n",
        "plot_valid_loss_and_accuracy(val_loss, val_acc)"
      ],
      "metadata": {
        "id": "qfXnLijNYZ1z",
        "colab": {
          "base_uri": "https://localhost:8080/",
          "height": 542
        },
        "outputId": "1626c650-c28e-4d98-ce53-eb56759ae2a2"
      },
      "execution_count": null,
      "outputs": [
        {
          "output_type": "display_data",
          "data": {
            "text/html": [
              "<html>\n",
              "<head><meta charset=\"utf-8\" /></head>\n",
              "<body>\n",
              "    <div>            <script src=\"https://cdnjs.cloudflare.com/ajax/libs/mathjax/2.7.5/MathJax.js?config=TeX-AMS-MML_SVG\"></script><script type=\"text/javascript\">if (window.MathJax && window.MathJax.Hub && window.MathJax.Hub.Config) {window.MathJax.Hub.Config({SVG: {font: \"STIX-Web\"}});}</script>                <script type=\"text/javascript\">window.PlotlyConfig = {MathJaxConfig: 'local'};</script>\n",
              "        <script charset=\"utf-8\" src=\"https://cdn.plot.ly/plotly-2.24.1.min.js\"></script>                <div id=\"7d22f397-963d-49f8-bd48-3ac795e242ac\" class=\"plotly-graph-div\" style=\"height:525px; width:100%;\"></div>            <script type=\"text/javascript\">                                    window.PLOTLYENV=window.PLOTLYENV || {};                                    if (document.getElementById(\"7d22f397-963d-49f8-bd48-3ac795e242ac\")) {                    Plotly.newPlot(                        \"7d22f397-963d-49f8-bd48-3ac795e242ac\",                        [{\"mode\":\"lines\",\"name\":\"Validation Loss\",\"x\":[1,2,3,4,5,6,7,8,9,10,11,12,13,14,15,16,17,18,19,20,21,22,23,24,25,26,27,28,29,30,31,32,33,34,35,36,37,38,39,40,41,42,43,44,45,46,47,48,49,50,51,52,53,54,55,56,57,58,59,60,61,62,63,64,65,66,67,68,69,70,71,72,73,74,75,76,77,78,79,80,81,82,83,84,85,86,87,88,89,90,91,92,93,94,95,96,97,98,99,100],\"y\":[0.42881879210472107,0.38156503438949585,0.37327536940574646,0.3881227672100067,0.40508008003234863,0.4186011254787445,0.4201156198978424,0.45118653774261475,0.49070805311203003,0.5025786757469177,0.5469635128974915,0.532640278339386,0.551033616065979,0.5707796216011047,0.5708618760108948,0.6280165910720825,0.6333916783332825,0.6357208490371704,0.7083356380462646,0.6853789687156677,0.6894556879997253,0.7316708564758301,0.7211785912513733,0.7980715036392212,0.8141367435455322,0.7946995496749878,0.813125729560852,0.8470504879951477,0.8705025315284729,0.9101554751396179,0.8853697180747986,0.9292281270027161,0.9297757744789124,0.924453854560852,0.9723622798919678,0.9672099947929382,0.9650668501853943,1.0249996185302734,1.0077999830245972,1.0073059797286987,0.9943258166313171,1.040202021598816,1.0371804237365723,1.0763651132583618,1.0128512382507324,1.0643969774246216,1.0775984525680542,1.111106038093567,1.1215548515319824,1.1144452095031738,1.1348135471343994,1.1256284713745117,1.088377594947815,1.0870780944824219,1.1615437269210815,1.1022870540618896,1.1290209293365479,1.15890371799469,1.2146532535552979,1.1156245470046997,1.1586065292358398,1.1648938655853271,1.2170594930648804,1.2024176120758057,1.2207880020141602,1.1840267181396484,1.1358354091644287,1.1608768701553345,1.2425113916397095,1.1602401733398438,1.1854727268218994,1.2251555919647217,1.2141937017440796,1.2989310026168823,1.2585426568984985,1.2857670783996582,1.0972132682800293,1.1034375429153442,1.1477794647216797,1.2004739046096802,1.177993893623352,1.2128421068191528,1.2669596672058105,1.2809075117111206,1.1736208200454712,1.2516225576400757,1.2825541496276855,1.3007315397262573,1.2879518270492554,1.3106343746185303,1.203019142150879,1.2679938077926636,1.304101824760437,1.2535130977630615,1.2605457305908203,1.2894906997680664,1.2886435985565186,1.33242928981781,1.244436264038086,1.2240796089172363],\"yaxis\":\"y\",\"type\":\"scatter\"},{\"mode\":\"lines\",\"name\":\"Validation Accuracy\",\"x\":[1,2,3,4,5,6,7,8,9,10,11,12,13,14,15,16,17,18,19,20,21,22,23,24,25,26,27,28,29,30,31,32,33,34,35,36,37,38,39,40,41,42,43,44,45,46,47,48,49,50,51,52,53,54,55,56,57,58,59,60,61,62,63,64,65,66,67,68,69,70,71,72,73,74,75,76,77,78,79,80,81,82,83,84,85,86,87,88,89,90,91,92,93,94,95,96,97,98,99,100],\"y\":[0.8228346705436707,0.8398950099945068,0.8543307185173035,0.8398950099945068,0.834645688533783,0.8385826945304871,0.8412073254585266,0.8293963074684143,0.8307086825370789,0.8215222954750061,0.8241469860076904,0.8307086825370789,0.8359580039978027,0.8359580039978027,0.8267716765403748,0.8280839920043945,0.8307086825370789,0.8188976645469666,0.8202099800109863,0.834645688533783,0.8307086825370789,0.8241469860076904,0.8372703194618225,0.8202099800109863,0.817585289478302,0.8293963074684143,0.8307086825370789,0.8293963074684143,0.8215222954750061,0.8267716765403748,0.834645688533783,0.8228346705436707,0.8241469860076904,0.8267716765403748,0.8202099800109863,0.8254593014717102,0.8267716765403748,0.8202099800109863,0.8188976645469666,0.817585289478302,0.8280839920043945,0.8267716765403748,0.8267716765403748,0.8188976645469666,0.8241469860076904,0.8267716765403748,0.8241469860076904,0.8228346705436707,0.8202099800109863,0.8241469860076904,0.8241469860076904,0.8228346705436707,0.8202099800109863,0.8293963074684143,0.8267716765403748,0.8307086825370789,0.8254593014717102,0.8215222954750061,0.8188976645469666,0.8188976645469666,0.8202099800109863,0.8136482834815979,0.8228346705436707,0.8241469860076904,0.8293963074684143,0.8254593014717102,0.8254593014717102,0.8307086825370789,0.8241469860076904,0.8202099800109863,0.8254593014717102,0.8267716765403748,0.8293963074684143,0.8254593014717102,0.8320209980010986,0.8136482834815979,0.8372703194618225,0.8307086825370789,0.834645688533783,0.8241469860076904,0.8228346705436707,0.8215222954750061,0.8293963074684143,0.8254593014717102,0.8280839920043945,0.8123359680175781,0.8254593014717102,0.8293963074684143,0.8215222954750061,0.8241469860076904,0.8254593014717102,0.8215222954750061,0.8188976645469666,0.8149606585502625,0.8307086825370789,0.8228346705436707,0.8372703194618225,0.8280839920043945,0.8267716765403748,0.8267716765403748],\"yaxis\":\"y2\",\"type\":\"scatter\"}],                        {\"template\":{\"data\":{\"histogram2dcontour\":[{\"type\":\"histogram2dcontour\",\"colorbar\":{\"outlinewidth\":0,\"ticks\":\"\"},\"colorscale\":[[0.0,\"#0d0887\"],[0.1111111111111111,\"#46039f\"],[0.2222222222222222,\"#7201a8\"],[0.3333333333333333,\"#9c179e\"],[0.4444444444444444,\"#bd3786\"],[0.5555555555555556,\"#d8576b\"],[0.6666666666666666,\"#ed7953\"],[0.7777777777777778,\"#fb9f3a\"],[0.8888888888888888,\"#fdca26\"],[1.0,\"#f0f921\"]]}],\"choropleth\":[{\"type\":\"choropleth\",\"colorbar\":{\"outlinewidth\":0,\"ticks\":\"\"}}],\"histogram2d\":[{\"type\":\"histogram2d\",\"colorbar\":{\"outlinewidth\":0,\"ticks\":\"\"},\"colorscale\":[[0.0,\"#0d0887\"],[0.1111111111111111,\"#46039f\"],[0.2222222222222222,\"#7201a8\"],[0.3333333333333333,\"#9c179e\"],[0.4444444444444444,\"#bd3786\"],[0.5555555555555556,\"#d8576b\"],[0.6666666666666666,\"#ed7953\"],[0.7777777777777778,\"#fb9f3a\"],[0.8888888888888888,\"#fdca26\"],[1.0,\"#f0f921\"]]}],\"heatmap\":[{\"type\":\"heatmap\",\"colorbar\":{\"outlinewidth\":0,\"ticks\":\"\"},\"colorscale\":[[0.0,\"#0d0887\"],[0.1111111111111111,\"#46039f\"],[0.2222222222222222,\"#7201a8\"],[0.3333333333333333,\"#9c179e\"],[0.4444444444444444,\"#bd3786\"],[0.5555555555555556,\"#d8576b\"],[0.6666666666666666,\"#ed7953\"],[0.7777777777777778,\"#fb9f3a\"],[0.8888888888888888,\"#fdca26\"],[1.0,\"#f0f921\"]]}],\"heatmapgl\":[{\"type\":\"heatmapgl\",\"colorbar\":{\"outlinewidth\":0,\"ticks\":\"\"},\"colorscale\":[[0.0,\"#0d0887\"],[0.1111111111111111,\"#46039f\"],[0.2222222222222222,\"#7201a8\"],[0.3333333333333333,\"#9c179e\"],[0.4444444444444444,\"#bd3786\"],[0.5555555555555556,\"#d8576b\"],[0.6666666666666666,\"#ed7953\"],[0.7777777777777778,\"#fb9f3a\"],[0.8888888888888888,\"#fdca26\"],[1.0,\"#f0f921\"]]}],\"contourcarpet\":[{\"type\":\"contourcarpet\",\"colorbar\":{\"outlinewidth\":0,\"ticks\":\"\"}}],\"contour\":[{\"type\":\"contour\",\"colorbar\":{\"outlinewidth\":0,\"ticks\":\"\"},\"colorscale\":[[0.0,\"#0d0887\"],[0.1111111111111111,\"#46039f\"],[0.2222222222222222,\"#7201a8\"],[0.3333333333333333,\"#9c179e\"],[0.4444444444444444,\"#bd3786\"],[0.5555555555555556,\"#d8576b\"],[0.6666666666666666,\"#ed7953\"],[0.7777777777777778,\"#fb9f3a\"],[0.8888888888888888,\"#fdca26\"],[1.0,\"#f0f921\"]]}],\"surface\":[{\"type\":\"surface\",\"colorbar\":{\"outlinewidth\":0,\"ticks\":\"\"},\"colorscale\":[[0.0,\"#0d0887\"],[0.1111111111111111,\"#46039f\"],[0.2222222222222222,\"#7201a8\"],[0.3333333333333333,\"#9c179e\"],[0.4444444444444444,\"#bd3786\"],[0.5555555555555556,\"#d8576b\"],[0.6666666666666666,\"#ed7953\"],[0.7777777777777778,\"#fb9f3a\"],[0.8888888888888888,\"#fdca26\"],[1.0,\"#f0f921\"]]}],\"mesh3d\":[{\"type\":\"mesh3d\",\"colorbar\":{\"outlinewidth\":0,\"ticks\":\"\"}}],\"scatter\":[{\"fillpattern\":{\"fillmode\":\"overlay\",\"size\":10,\"solidity\":0.2},\"type\":\"scatter\"}],\"parcoords\":[{\"type\":\"parcoords\",\"line\":{\"colorbar\":{\"outlinewidth\":0,\"ticks\":\"\"}}}],\"scatterpolargl\":[{\"type\":\"scatterpolargl\",\"marker\":{\"colorbar\":{\"outlinewidth\":0,\"ticks\":\"\"}}}],\"bar\":[{\"error_x\":{\"color\":\"#2a3f5f\"},\"error_y\":{\"color\":\"#2a3f5f\"},\"marker\":{\"line\":{\"color\":\"#E5ECF6\",\"width\":0.5},\"pattern\":{\"fillmode\":\"overlay\",\"size\":10,\"solidity\":0.2}},\"type\":\"bar\"}],\"scattergeo\":[{\"type\":\"scattergeo\",\"marker\":{\"colorbar\":{\"outlinewidth\":0,\"ticks\":\"\"}}}],\"scatterpolar\":[{\"type\":\"scatterpolar\",\"marker\":{\"colorbar\":{\"outlinewidth\":0,\"ticks\":\"\"}}}],\"histogram\":[{\"marker\":{\"pattern\":{\"fillmode\":\"overlay\",\"size\":10,\"solidity\":0.2}},\"type\":\"histogram\"}],\"scattergl\":[{\"type\":\"scattergl\",\"marker\":{\"colorbar\":{\"outlinewidth\":0,\"ticks\":\"\"}}}],\"scatter3d\":[{\"type\":\"scatter3d\",\"line\":{\"colorbar\":{\"outlinewidth\":0,\"ticks\":\"\"}},\"marker\":{\"colorbar\":{\"outlinewidth\":0,\"ticks\":\"\"}}}],\"scattermapbox\":[{\"type\":\"scattermapbox\",\"marker\":{\"colorbar\":{\"outlinewidth\":0,\"ticks\":\"\"}}}],\"scatterternary\":[{\"type\":\"scatterternary\",\"marker\":{\"colorbar\":{\"outlinewidth\":0,\"ticks\":\"\"}}}],\"scattercarpet\":[{\"type\":\"scattercarpet\",\"marker\":{\"colorbar\":{\"outlinewidth\":0,\"ticks\":\"\"}}}],\"carpet\":[{\"aaxis\":{\"endlinecolor\":\"#2a3f5f\",\"gridcolor\":\"white\",\"linecolor\":\"white\",\"minorgridcolor\":\"white\",\"startlinecolor\":\"#2a3f5f\"},\"baxis\":{\"endlinecolor\":\"#2a3f5f\",\"gridcolor\":\"white\",\"linecolor\":\"white\",\"minorgridcolor\":\"white\",\"startlinecolor\":\"#2a3f5f\"},\"type\":\"carpet\"}],\"table\":[{\"cells\":{\"fill\":{\"color\":\"#EBF0F8\"},\"line\":{\"color\":\"white\"}},\"header\":{\"fill\":{\"color\":\"#C8D4E3\"},\"line\":{\"color\":\"white\"}},\"type\":\"table\"}],\"barpolar\":[{\"marker\":{\"line\":{\"color\":\"#E5ECF6\",\"width\":0.5},\"pattern\":{\"fillmode\":\"overlay\",\"size\":10,\"solidity\":0.2}},\"type\":\"barpolar\"}],\"pie\":[{\"automargin\":true,\"type\":\"pie\"}]},\"layout\":{\"autotypenumbers\":\"strict\",\"colorway\":[\"#636efa\",\"#EF553B\",\"#00cc96\",\"#ab63fa\",\"#FFA15A\",\"#19d3f3\",\"#FF6692\",\"#B6E880\",\"#FF97FF\",\"#FECB52\"],\"font\":{\"color\":\"#2a3f5f\"},\"hovermode\":\"closest\",\"hoverlabel\":{\"align\":\"left\"},\"paper_bgcolor\":\"white\",\"plot_bgcolor\":\"#E5ECF6\",\"polar\":{\"bgcolor\":\"#E5ECF6\",\"angularaxis\":{\"gridcolor\":\"white\",\"linecolor\":\"white\",\"ticks\":\"\"},\"radialaxis\":{\"gridcolor\":\"white\",\"linecolor\":\"white\",\"ticks\":\"\"}},\"ternary\":{\"bgcolor\":\"#E5ECF6\",\"aaxis\":{\"gridcolor\":\"white\",\"linecolor\":\"white\",\"ticks\":\"\"},\"baxis\":{\"gridcolor\":\"white\",\"linecolor\":\"white\",\"ticks\":\"\"},\"caxis\":{\"gridcolor\":\"white\",\"linecolor\":\"white\",\"ticks\":\"\"}},\"coloraxis\":{\"colorbar\":{\"outlinewidth\":0,\"ticks\":\"\"}},\"colorscale\":{\"sequential\":[[0.0,\"#0d0887\"],[0.1111111111111111,\"#46039f\"],[0.2222222222222222,\"#7201a8\"],[0.3333333333333333,\"#9c179e\"],[0.4444444444444444,\"#bd3786\"],[0.5555555555555556,\"#d8576b\"],[0.6666666666666666,\"#ed7953\"],[0.7777777777777778,\"#fb9f3a\"],[0.8888888888888888,\"#fdca26\"],[1.0,\"#f0f921\"]],\"sequentialminus\":[[0.0,\"#0d0887\"],[0.1111111111111111,\"#46039f\"],[0.2222222222222222,\"#7201a8\"],[0.3333333333333333,\"#9c179e\"],[0.4444444444444444,\"#bd3786\"],[0.5555555555555556,\"#d8576b\"],[0.6666666666666666,\"#ed7953\"],[0.7777777777777778,\"#fb9f3a\"],[0.8888888888888888,\"#fdca26\"],[1.0,\"#f0f921\"]],\"diverging\":[[0,\"#8e0152\"],[0.1,\"#c51b7d\"],[0.2,\"#de77ae\"],[0.3,\"#f1b6da\"],[0.4,\"#fde0ef\"],[0.5,\"#f7f7f7\"],[0.6,\"#e6f5d0\"],[0.7,\"#b8e186\"],[0.8,\"#7fbc41\"],[0.9,\"#4d9221\"],[1,\"#276419\"]]},\"xaxis\":{\"gridcolor\":\"white\",\"linecolor\":\"white\",\"ticks\":\"\",\"title\":{\"standoff\":15},\"zerolinecolor\":\"white\",\"automargin\":true,\"zerolinewidth\":2},\"yaxis\":{\"gridcolor\":\"white\",\"linecolor\":\"white\",\"ticks\":\"\",\"title\":{\"standoff\":15},\"zerolinecolor\":\"white\",\"automargin\":true,\"zerolinewidth\":2},\"scene\":{\"xaxis\":{\"backgroundcolor\":\"#E5ECF6\",\"gridcolor\":\"white\",\"linecolor\":\"white\",\"showbackground\":true,\"ticks\":\"\",\"zerolinecolor\":\"white\",\"gridwidth\":2},\"yaxis\":{\"backgroundcolor\":\"#E5ECF6\",\"gridcolor\":\"white\",\"linecolor\":\"white\",\"showbackground\":true,\"ticks\":\"\",\"zerolinecolor\":\"white\",\"gridwidth\":2},\"zaxis\":{\"backgroundcolor\":\"#E5ECF6\",\"gridcolor\":\"white\",\"linecolor\":\"white\",\"showbackground\":true,\"ticks\":\"\",\"zerolinecolor\":\"white\",\"gridwidth\":2}},\"shapedefaults\":{\"line\":{\"color\":\"#2a3f5f\"}},\"annotationdefaults\":{\"arrowcolor\":\"#2a3f5f\",\"arrowhead\":0,\"arrowwidth\":1},\"geo\":{\"bgcolor\":\"white\",\"landcolor\":\"#E5ECF6\",\"subunitcolor\":\"white\",\"showland\":true,\"showlakes\":true,\"lakecolor\":\"white\"},\"title\":{\"x\":0.05},\"mapbox\":{\"style\":\"light\"}}},\"yaxis\":{\"title\":{\"text\":\"Validation Loss\"},\"side\":\"left\",\"showgrid\":false},\"yaxis2\":{\"title\":{\"text\":\"Validation Accuracy\"},\"side\":\"right\",\"overlaying\":\"y\",\"showgrid\":false},\"title\":{\"text\":\"Validation Loss and Accuracy vs. Epochs\"},\"xaxis\":{\"title\":{\"text\":\"Epochs\"}}},                        {\"responsive\": true}                    ).then(function(){\n",
              "                            \n",
              "var gd = document.getElementById('7d22f397-963d-49f8-bd48-3ac795e242ac');\n",
              "var x = new MutationObserver(function (mutations, observer) {{\n",
              "        var display = window.getComputedStyle(gd).display;\n",
              "        if (!display || display === 'none') {{\n",
              "            console.log([gd, 'removed!']);\n",
              "            Plotly.purge(gd);\n",
              "            observer.disconnect();\n",
              "        }}\n",
              "}});\n",
              "\n",
              "// Listen for the removal of the full notebook cells\n",
              "var notebookContainer = gd.closest('#notebook-container');\n",
              "if (notebookContainer) {{\n",
              "    x.observe(notebookContainer, {childList: true});\n",
              "}}\n",
              "\n",
              "// Listen for the clearing of the current output cell\n",
              "var outputEl = gd.closest('.output');\n",
              "if (outputEl) {{\n",
              "    x.observe(outputEl, {childList: true});\n",
              "}}\n",
              "\n",
              "                        })                };                            </script>        </div>\n",
              "</body>\n",
              "</html>"
            ]
          },
          "metadata": {}
        }
      ]
    }
  ],
  "metadata": {
    "accelerator": "GPU",
    "colab": {
      "provenance": [],
      "include_colab_link": true
    },
    "kernelspec": {
      "display_name": "Python 3",
      "name": "python3"
    },
    "language_info": {
      "name": "python"
    },
    "widgets": {
      "application/vnd.jupyter.widget-state+json": {
        "6651246126414273bd997cfef66c625b": {
          "model_module": "@jupyter-widgets/controls",
          "model_name": "HBoxModel",
          "model_module_version": "1.5.0",
          "state": {
            "_dom_classes": [],
            "_model_module": "@jupyter-widgets/controls",
            "_model_module_version": "1.5.0",
            "_model_name": "HBoxModel",
            "_view_count": null,
            "_view_module": "@jupyter-widgets/controls",
            "_view_module_version": "1.5.0",
            "_view_name": "HBoxView",
            "box_style": "",
            "children": [
              "IPY_MODEL_a028bd29f989416f9e06040c5818c377",
              "IPY_MODEL_7267e01e1580471e91fe2ff9c6269f35",
              "IPY_MODEL_0d36f8a92bc745d6aa8b950ccb21797a"
            ],
            "layout": "IPY_MODEL_12539e9ac8dd44788adee616b70bf9d0"
          }
        },
        "a028bd29f989416f9e06040c5818c377": {
          "model_module": "@jupyter-widgets/controls",
          "model_name": "HTMLModel",
          "model_module_version": "1.5.0",
          "state": {
            "_dom_classes": [],
            "_model_module": "@jupyter-widgets/controls",
            "_model_module_version": "1.5.0",
            "_model_name": "HTMLModel",
            "_view_count": null,
            "_view_module": "@jupyter-widgets/controls",
            "_view_module_version": "1.5.0",
            "_view_name": "HTMLView",
            "description": "",
            "description_tooltip": null,
            "layout": "IPY_MODEL_f2d9b8b1db1c437794503626771e8fc0",
            "placeholder": "​",
            "style": "IPY_MODEL_d56ca604bf7c4f24b1ff6c4b080781e5",
            "value": "Downloading (…)okenizer_config.json: 100%"
          }
        },
        "7267e01e1580471e91fe2ff9c6269f35": {
          "model_module": "@jupyter-widgets/controls",
          "model_name": "FloatProgressModel",
          "model_module_version": "1.5.0",
          "state": {
            "_dom_classes": [],
            "_model_module": "@jupyter-widgets/controls",
            "_model_module_version": "1.5.0",
            "_model_name": "FloatProgressModel",
            "_view_count": null,
            "_view_module": "@jupyter-widgets/controls",
            "_view_module_version": "1.5.0",
            "_view_name": "ProgressView",
            "bar_style": "success",
            "description": "",
            "description_tooltip": null,
            "layout": "IPY_MODEL_fe5aa8a54197435b959a7d80c9e2046a",
            "max": 29,
            "min": 0,
            "orientation": "horizontal",
            "style": "IPY_MODEL_44e5504f4ebc4da3a17749a223f0e766",
            "value": 29
          }
        },
        "0d36f8a92bc745d6aa8b950ccb21797a": {
          "model_module": "@jupyter-widgets/controls",
          "model_name": "HTMLModel",
          "model_module_version": "1.5.0",
          "state": {
            "_dom_classes": [],
            "_model_module": "@jupyter-widgets/controls",
            "_model_module_version": "1.5.0",
            "_model_name": "HTMLModel",
            "_view_count": null,
            "_view_module": "@jupyter-widgets/controls",
            "_view_module_version": "1.5.0",
            "_view_name": "HTMLView",
            "description": "",
            "description_tooltip": null,
            "layout": "IPY_MODEL_c5107e0fafce454cac5ae3a4a56e61b4",
            "placeholder": "​",
            "style": "IPY_MODEL_b01311f54e69465386aa03a6ffeddbdd",
            "value": " 29.0/29.0 [00:00&lt;00:00, 1.31kB/s]"
          }
        },
        "12539e9ac8dd44788adee616b70bf9d0": {
          "model_module": "@jupyter-widgets/base",
          "model_name": "LayoutModel",
          "model_module_version": "1.2.0",
          "state": {
            "_model_module": "@jupyter-widgets/base",
            "_model_module_version": "1.2.0",
            "_model_name": "LayoutModel",
            "_view_count": null,
            "_view_module": "@jupyter-widgets/base",
            "_view_module_version": "1.2.0",
            "_view_name": "LayoutView",
            "align_content": null,
            "align_items": null,
            "align_self": null,
            "border": null,
            "bottom": null,
            "display": null,
            "flex": null,
            "flex_flow": null,
            "grid_area": null,
            "grid_auto_columns": null,
            "grid_auto_flow": null,
            "grid_auto_rows": null,
            "grid_column": null,
            "grid_gap": null,
            "grid_row": null,
            "grid_template_areas": null,
            "grid_template_columns": null,
            "grid_template_rows": null,
            "height": null,
            "justify_content": null,
            "justify_items": null,
            "left": null,
            "margin": null,
            "max_height": null,
            "max_width": null,
            "min_height": null,
            "min_width": null,
            "object_fit": null,
            "object_position": null,
            "order": null,
            "overflow": null,
            "overflow_x": null,
            "overflow_y": null,
            "padding": null,
            "right": null,
            "top": null,
            "visibility": null,
            "width": null
          }
        },
        "f2d9b8b1db1c437794503626771e8fc0": {
          "model_module": "@jupyter-widgets/base",
          "model_name": "LayoutModel",
          "model_module_version": "1.2.0",
          "state": {
            "_model_module": "@jupyter-widgets/base",
            "_model_module_version": "1.2.0",
            "_model_name": "LayoutModel",
            "_view_count": null,
            "_view_module": "@jupyter-widgets/base",
            "_view_module_version": "1.2.0",
            "_view_name": "LayoutView",
            "align_content": null,
            "align_items": null,
            "align_self": null,
            "border": null,
            "bottom": null,
            "display": null,
            "flex": null,
            "flex_flow": null,
            "grid_area": null,
            "grid_auto_columns": null,
            "grid_auto_flow": null,
            "grid_auto_rows": null,
            "grid_column": null,
            "grid_gap": null,
            "grid_row": null,
            "grid_template_areas": null,
            "grid_template_columns": null,
            "grid_template_rows": null,
            "height": null,
            "justify_content": null,
            "justify_items": null,
            "left": null,
            "margin": null,
            "max_height": null,
            "max_width": null,
            "min_height": null,
            "min_width": null,
            "object_fit": null,
            "object_position": null,
            "order": null,
            "overflow": null,
            "overflow_x": null,
            "overflow_y": null,
            "padding": null,
            "right": null,
            "top": null,
            "visibility": null,
            "width": null
          }
        },
        "d56ca604bf7c4f24b1ff6c4b080781e5": {
          "model_module": "@jupyter-widgets/controls",
          "model_name": "DescriptionStyleModel",
          "model_module_version": "1.5.0",
          "state": {
            "_model_module": "@jupyter-widgets/controls",
            "_model_module_version": "1.5.0",
            "_model_name": "DescriptionStyleModel",
            "_view_count": null,
            "_view_module": "@jupyter-widgets/base",
            "_view_module_version": "1.2.0",
            "_view_name": "StyleView",
            "description_width": ""
          }
        },
        "fe5aa8a54197435b959a7d80c9e2046a": {
          "model_module": "@jupyter-widgets/base",
          "model_name": "LayoutModel",
          "model_module_version": "1.2.0",
          "state": {
            "_model_module": "@jupyter-widgets/base",
            "_model_module_version": "1.2.0",
            "_model_name": "LayoutModel",
            "_view_count": null,
            "_view_module": "@jupyter-widgets/base",
            "_view_module_version": "1.2.0",
            "_view_name": "LayoutView",
            "align_content": null,
            "align_items": null,
            "align_self": null,
            "border": null,
            "bottom": null,
            "display": null,
            "flex": null,
            "flex_flow": null,
            "grid_area": null,
            "grid_auto_columns": null,
            "grid_auto_flow": null,
            "grid_auto_rows": null,
            "grid_column": null,
            "grid_gap": null,
            "grid_row": null,
            "grid_template_areas": null,
            "grid_template_columns": null,
            "grid_template_rows": null,
            "height": null,
            "justify_content": null,
            "justify_items": null,
            "left": null,
            "margin": null,
            "max_height": null,
            "max_width": null,
            "min_height": null,
            "min_width": null,
            "object_fit": null,
            "object_position": null,
            "order": null,
            "overflow": null,
            "overflow_x": null,
            "overflow_y": null,
            "padding": null,
            "right": null,
            "top": null,
            "visibility": null,
            "width": null
          }
        },
        "44e5504f4ebc4da3a17749a223f0e766": {
          "model_module": "@jupyter-widgets/controls",
          "model_name": "ProgressStyleModel",
          "model_module_version": "1.5.0",
          "state": {
            "_model_module": "@jupyter-widgets/controls",
            "_model_module_version": "1.5.0",
            "_model_name": "ProgressStyleModel",
            "_view_count": null,
            "_view_module": "@jupyter-widgets/base",
            "_view_module_version": "1.2.0",
            "_view_name": "StyleView",
            "bar_color": null,
            "description_width": ""
          }
        },
        "c5107e0fafce454cac5ae3a4a56e61b4": {
          "model_module": "@jupyter-widgets/base",
          "model_name": "LayoutModel",
          "model_module_version": "1.2.0",
          "state": {
            "_model_module": "@jupyter-widgets/base",
            "_model_module_version": "1.2.0",
            "_model_name": "LayoutModel",
            "_view_count": null,
            "_view_module": "@jupyter-widgets/base",
            "_view_module_version": "1.2.0",
            "_view_name": "LayoutView",
            "align_content": null,
            "align_items": null,
            "align_self": null,
            "border": null,
            "bottom": null,
            "display": null,
            "flex": null,
            "flex_flow": null,
            "grid_area": null,
            "grid_auto_columns": null,
            "grid_auto_flow": null,
            "grid_auto_rows": null,
            "grid_column": null,
            "grid_gap": null,
            "grid_row": null,
            "grid_template_areas": null,
            "grid_template_columns": null,
            "grid_template_rows": null,
            "height": null,
            "justify_content": null,
            "justify_items": null,
            "left": null,
            "margin": null,
            "max_height": null,
            "max_width": null,
            "min_height": null,
            "min_width": null,
            "object_fit": null,
            "object_position": null,
            "order": null,
            "overflow": null,
            "overflow_x": null,
            "overflow_y": null,
            "padding": null,
            "right": null,
            "top": null,
            "visibility": null,
            "width": null
          }
        },
        "b01311f54e69465386aa03a6ffeddbdd": {
          "model_module": "@jupyter-widgets/controls",
          "model_name": "DescriptionStyleModel",
          "model_module_version": "1.5.0",
          "state": {
            "_model_module": "@jupyter-widgets/controls",
            "_model_module_version": "1.5.0",
            "_model_name": "DescriptionStyleModel",
            "_view_count": null,
            "_view_module": "@jupyter-widgets/base",
            "_view_module_version": "1.2.0",
            "_view_name": "StyleView",
            "description_width": ""
          }
        },
        "402400492eab4cdf8601a5c967defb5c": {
          "model_module": "@jupyter-widgets/controls",
          "model_name": "HBoxModel",
          "model_module_version": "1.5.0",
          "state": {
            "_dom_classes": [],
            "_model_module": "@jupyter-widgets/controls",
            "_model_module_version": "1.5.0",
            "_model_name": "HBoxModel",
            "_view_count": null,
            "_view_module": "@jupyter-widgets/controls",
            "_view_module_version": "1.5.0",
            "_view_name": "HBoxView",
            "box_style": "",
            "children": [
              "IPY_MODEL_7049be063f9b4d6b8635029bec05be50",
              "IPY_MODEL_a8f8d8290c7b4dcebef8916cdc2577f7",
              "IPY_MODEL_67f4fcb42bca4d4380f809787d32e7c1"
            ],
            "layout": "IPY_MODEL_ebaed0a0417447659a24601b6b9083fb"
          }
        },
        "7049be063f9b4d6b8635029bec05be50": {
          "model_module": "@jupyter-widgets/controls",
          "model_name": "HTMLModel",
          "model_module_version": "1.5.0",
          "state": {
            "_dom_classes": [],
            "_model_module": "@jupyter-widgets/controls",
            "_model_module_version": "1.5.0",
            "_model_name": "HTMLModel",
            "_view_count": null,
            "_view_module": "@jupyter-widgets/controls",
            "_view_module_version": "1.5.0",
            "_view_name": "HTMLView",
            "description": "",
            "description_tooltip": null,
            "layout": "IPY_MODEL_53d25da0da9e4de0aad495461306b077",
            "placeholder": "​",
            "style": "IPY_MODEL_2ae30cc43cc94e8a85379c220e266155",
            "value": "Downloading (…)lve/main/config.json: 100%"
          }
        },
        "a8f8d8290c7b4dcebef8916cdc2577f7": {
          "model_module": "@jupyter-widgets/controls",
          "model_name": "FloatProgressModel",
          "model_module_version": "1.5.0",
          "state": {
            "_dom_classes": [],
            "_model_module": "@jupyter-widgets/controls",
            "_model_module_version": "1.5.0",
            "_model_name": "FloatProgressModel",
            "_view_count": null,
            "_view_module": "@jupyter-widgets/controls",
            "_view_module_version": "1.5.0",
            "_view_name": "ProgressView",
            "bar_style": "success",
            "description": "",
            "description_tooltip": null,
            "layout": "IPY_MODEL_23fc76cbb91b4cbea32d8f4b5ec98a5c",
            "max": 570,
            "min": 0,
            "orientation": "horizontal",
            "style": "IPY_MODEL_e2225d3a799e43948276dbf9c8774ba6",
            "value": 570
          }
        },
        "67f4fcb42bca4d4380f809787d32e7c1": {
          "model_module": "@jupyter-widgets/controls",
          "model_name": "HTMLModel",
          "model_module_version": "1.5.0",
          "state": {
            "_dom_classes": [],
            "_model_module": "@jupyter-widgets/controls",
            "_model_module_version": "1.5.0",
            "_model_name": "HTMLModel",
            "_view_count": null,
            "_view_module": "@jupyter-widgets/controls",
            "_view_module_version": "1.5.0",
            "_view_name": "HTMLView",
            "description": "",
            "description_tooltip": null,
            "layout": "IPY_MODEL_b67c573c31c44849868266e9fa9bce94",
            "placeholder": "​",
            "style": "IPY_MODEL_c91e2eafdeb6485586ca301f5d00121d",
            "value": " 570/570 [00:00&lt;00:00, 40.0kB/s]"
          }
        },
        "ebaed0a0417447659a24601b6b9083fb": {
          "model_module": "@jupyter-widgets/base",
          "model_name": "LayoutModel",
          "model_module_version": "1.2.0",
          "state": {
            "_model_module": "@jupyter-widgets/base",
            "_model_module_version": "1.2.0",
            "_model_name": "LayoutModel",
            "_view_count": null,
            "_view_module": "@jupyter-widgets/base",
            "_view_module_version": "1.2.0",
            "_view_name": "LayoutView",
            "align_content": null,
            "align_items": null,
            "align_self": null,
            "border": null,
            "bottom": null,
            "display": null,
            "flex": null,
            "flex_flow": null,
            "grid_area": null,
            "grid_auto_columns": null,
            "grid_auto_flow": null,
            "grid_auto_rows": null,
            "grid_column": null,
            "grid_gap": null,
            "grid_row": null,
            "grid_template_areas": null,
            "grid_template_columns": null,
            "grid_template_rows": null,
            "height": null,
            "justify_content": null,
            "justify_items": null,
            "left": null,
            "margin": null,
            "max_height": null,
            "max_width": null,
            "min_height": null,
            "min_width": null,
            "object_fit": null,
            "object_position": null,
            "order": null,
            "overflow": null,
            "overflow_x": null,
            "overflow_y": null,
            "padding": null,
            "right": null,
            "top": null,
            "visibility": null,
            "width": null
          }
        },
        "53d25da0da9e4de0aad495461306b077": {
          "model_module": "@jupyter-widgets/base",
          "model_name": "LayoutModel",
          "model_module_version": "1.2.0",
          "state": {
            "_model_module": "@jupyter-widgets/base",
            "_model_module_version": "1.2.0",
            "_model_name": "LayoutModel",
            "_view_count": null,
            "_view_module": "@jupyter-widgets/base",
            "_view_module_version": "1.2.0",
            "_view_name": "LayoutView",
            "align_content": null,
            "align_items": null,
            "align_self": null,
            "border": null,
            "bottom": null,
            "display": null,
            "flex": null,
            "flex_flow": null,
            "grid_area": null,
            "grid_auto_columns": null,
            "grid_auto_flow": null,
            "grid_auto_rows": null,
            "grid_column": null,
            "grid_gap": null,
            "grid_row": null,
            "grid_template_areas": null,
            "grid_template_columns": null,
            "grid_template_rows": null,
            "height": null,
            "justify_content": null,
            "justify_items": null,
            "left": null,
            "margin": null,
            "max_height": null,
            "max_width": null,
            "min_height": null,
            "min_width": null,
            "object_fit": null,
            "object_position": null,
            "order": null,
            "overflow": null,
            "overflow_x": null,
            "overflow_y": null,
            "padding": null,
            "right": null,
            "top": null,
            "visibility": null,
            "width": null
          }
        },
        "2ae30cc43cc94e8a85379c220e266155": {
          "model_module": "@jupyter-widgets/controls",
          "model_name": "DescriptionStyleModel",
          "model_module_version": "1.5.0",
          "state": {
            "_model_module": "@jupyter-widgets/controls",
            "_model_module_version": "1.5.0",
            "_model_name": "DescriptionStyleModel",
            "_view_count": null,
            "_view_module": "@jupyter-widgets/base",
            "_view_module_version": "1.2.0",
            "_view_name": "StyleView",
            "description_width": ""
          }
        },
        "23fc76cbb91b4cbea32d8f4b5ec98a5c": {
          "model_module": "@jupyter-widgets/base",
          "model_name": "LayoutModel",
          "model_module_version": "1.2.0",
          "state": {
            "_model_module": "@jupyter-widgets/base",
            "_model_module_version": "1.2.0",
            "_model_name": "LayoutModel",
            "_view_count": null,
            "_view_module": "@jupyter-widgets/base",
            "_view_module_version": "1.2.0",
            "_view_name": "LayoutView",
            "align_content": null,
            "align_items": null,
            "align_self": null,
            "border": null,
            "bottom": null,
            "display": null,
            "flex": null,
            "flex_flow": null,
            "grid_area": null,
            "grid_auto_columns": null,
            "grid_auto_flow": null,
            "grid_auto_rows": null,
            "grid_column": null,
            "grid_gap": null,
            "grid_row": null,
            "grid_template_areas": null,
            "grid_template_columns": null,
            "grid_template_rows": null,
            "height": null,
            "justify_content": null,
            "justify_items": null,
            "left": null,
            "margin": null,
            "max_height": null,
            "max_width": null,
            "min_height": null,
            "min_width": null,
            "object_fit": null,
            "object_position": null,
            "order": null,
            "overflow": null,
            "overflow_x": null,
            "overflow_y": null,
            "padding": null,
            "right": null,
            "top": null,
            "visibility": null,
            "width": null
          }
        },
        "e2225d3a799e43948276dbf9c8774ba6": {
          "model_module": "@jupyter-widgets/controls",
          "model_name": "ProgressStyleModel",
          "model_module_version": "1.5.0",
          "state": {
            "_model_module": "@jupyter-widgets/controls",
            "_model_module_version": "1.5.0",
            "_model_name": "ProgressStyleModel",
            "_view_count": null,
            "_view_module": "@jupyter-widgets/base",
            "_view_module_version": "1.2.0",
            "_view_name": "StyleView",
            "bar_color": null,
            "description_width": ""
          }
        },
        "b67c573c31c44849868266e9fa9bce94": {
          "model_module": "@jupyter-widgets/base",
          "model_name": "LayoutModel",
          "model_module_version": "1.2.0",
          "state": {
            "_model_module": "@jupyter-widgets/base",
            "_model_module_version": "1.2.0",
            "_model_name": "LayoutModel",
            "_view_count": null,
            "_view_module": "@jupyter-widgets/base",
            "_view_module_version": "1.2.0",
            "_view_name": "LayoutView",
            "align_content": null,
            "align_items": null,
            "align_self": null,
            "border": null,
            "bottom": null,
            "display": null,
            "flex": null,
            "flex_flow": null,
            "grid_area": null,
            "grid_auto_columns": null,
            "grid_auto_flow": null,
            "grid_auto_rows": null,
            "grid_column": null,
            "grid_gap": null,
            "grid_row": null,
            "grid_template_areas": null,
            "grid_template_columns": null,
            "grid_template_rows": null,
            "height": null,
            "justify_content": null,
            "justify_items": null,
            "left": null,
            "margin": null,
            "max_height": null,
            "max_width": null,
            "min_height": null,
            "min_width": null,
            "object_fit": null,
            "object_position": null,
            "order": null,
            "overflow": null,
            "overflow_x": null,
            "overflow_y": null,
            "padding": null,
            "right": null,
            "top": null,
            "visibility": null,
            "width": null
          }
        },
        "c91e2eafdeb6485586ca301f5d00121d": {
          "model_module": "@jupyter-widgets/controls",
          "model_name": "DescriptionStyleModel",
          "model_module_version": "1.5.0",
          "state": {
            "_model_module": "@jupyter-widgets/controls",
            "_model_module_version": "1.5.0",
            "_model_name": "DescriptionStyleModel",
            "_view_count": null,
            "_view_module": "@jupyter-widgets/base",
            "_view_module_version": "1.2.0",
            "_view_name": "StyleView",
            "description_width": ""
          }
        },
        "40d80e8c6185440091e6288d37f41f0b": {
          "model_module": "@jupyter-widgets/controls",
          "model_name": "HBoxModel",
          "model_module_version": "1.5.0",
          "state": {
            "_dom_classes": [],
            "_model_module": "@jupyter-widgets/controls",
            "_model_module_version": "1.5.0",
            "_model_name": "HBoxModel",
            "_view_count": null,
            "_view_module": "@jupyter-widgets/controls",
            "_view_module_version": "1.5.0",
            "_view_name": "HBoxView",
            "box_style": "",
            "children": [
              "IPY_MODEL_7ebda79d17a94f89a34e3b196fd46f4c",
              "IPY_MODEL_e27df3f2a45e45fb8408fa2d8b2cdc7b",
              "IPY_MODEL_a9be028109a7495fa528124f6b937bde"
            ],
            "layout": "IPY_MODEL_d26fd553a180493ca8617f79fb83f874"
          }
        },
        "7ebda79d17a94f89a34e3b196fd46f4c": {
          "model_module": "@jupyter-widgets/controls",
          "model_name": "HTMLModel",
          "model_module_version": "1.5.0",
          "state": {
            "_dom_classes": [],
            "_model_module": "@jupyter-widgets/controls",
            "_model_module_version": "1.5.0",
            "_model_name": "HTMLModel",
            "_view_count": null,
            "_view_module": "@jupyter-widgets/controls",
            "_view_module_version": "1.5.0",
            "_view_name": "HTMLView",
            "description": "",
            "description_tooltip": null,
            "layout": "IPY_MODEL_94f0fe700418466099c05a777ea119ee",
            "placeholder": "​",
            "style": "IPY_MODEL_70da3f9206034063a4ed2e53d848ebac",
            "value": "Downloading (…)solve/main/vocab.txt: 100%"
          }
        },
        "e27df3f2a45e45fb8408fa2d8b2cdc7b": {
          "model_module": "@jupyter-widgets/controls",
          "model_name": "FloatProgressModel",
          "model_module_version": "1.5.0",
          "state": {
            "_dom_classes": [],
            "_model_module": "@jupyter-widgets/controls",
            "_model_module_version": "1.5.0",
            "_model_name": "FloatProgressModel",
            "_view_count": null,
            "_view_module": "@jupyter-widgets/controls",
            "_view_module_version": "1.5.0",
            "_view_name": "ProgressView",
            "bar_style": "success",
            "description": "",
            "description_tooltip": null,
            "layout": "IPY_MODEL_ec2cee651bc446a1bd17f12acc6cd479",
            "max": 213450,
            "min": 0,
            "orientation": "horizontal",
            "style": "IPY_MODEL_75a7df0e1f6e4101ba26a138336c23b5",
            "value": 213450
          }
        },
        "a9be028109a7495fa528124f6b937bde": {
          "model_module": "@jupyter-widgets/controls",
          "model_name": "HTMLModel",
          "model_module_version": "1.5.0",
          "state": {
            "_dom_classes": [],
            "_model_module": "@jupyter-widgets/controls",
            "_model_module_version": "1.5.0",
            "_model_name": "HTMLModel",
            "_view_count": null,
            "_view_module": "@jupyter-widgets/controls",
            "_view_module_version": "1.5.0",
            "_view_name": "HTMLView",
            "description": "",
            "description_tooltip": null,
            "layout": "IPY_MODEL_1afd2caf0ceb414fbdcb2367ceead373",
            "placeholder": "​",
            "style": "IPY_MODEL_b87103ea1e0047c8a72e6d89d0bc4357",
            "value": " 213k/213k [00:00&lt;00:00, 1.16MB/s]"
          }
        },
        "d26fd553a180493ca8617f79fb83f874": {
          "model_module": "@jupyter-widgets/base",
          "model_name": "LayoutModel",
          "model_module_version": "1.2.0",
          "state": {
            "_model_module": "@jupyter-widgets/base",
            "_model_module_version": "1.2.0",
            "_model_name": "LayoutModel",
            "_view_count": null,
            "_view_module": "@jupyter-widgets/base",
            "_view_module_version": "1.2.0",
            "_view_name": "LayoutView",
            "align_content": null,
            "align_items": null,
            "align_self": null,
            "border": null,
            "bottom": null,
            "display": null,
            "flex": null,
            "flex_flow": null,
            "grid_area": null,
            "grid_auto_columns": null,
            "grid_auto_flow": null,
            "grid_auto_rows": null,
            "grid_column": null,
            "grid_gap": null,
            "grid_row": null,
            "grid_template_areas": null,
            "grid_template_columns": null,
            "grid_template_rows": null,
            "height": null,
            "justify_content": null,
            "justify_items": null,
            "left": null,
            "margin": null,
            "max_height": null,
            "max_width": null,
            "min_height": null,
            "min_width": null,
            "object_fit": null,
            "object_position": null,
            "order": null,
            "overflow": null,
            "overflow_x": null,
            "overflow_y": null,
            "padding": null,
            "right": null,
            "top": null,
            "visibility": null,
            "width": null
          }
        },
        "94f0fe700418466099c05a777ea119ee": {
          "model_module": "@jupyter-widgets/base",
          "model_name": "LayoutModel",
          "model_module_version": "1.2.0",
          "state": {
            "_model_module": "@jupyter-widgets/base",
            "_model_module_version": "1.2.0",
            "_model_name": "LayoutModel",
            "_view_count": null,
            "_view_module": "@jupyter-widgets/base",
            "_view_module_version": "1.2.0",
            "_view_name": "LayoutView",
            "align_content": null,
            "align_items": null,
            "align_self": null,
            "border": null,
            "bottom": null,
            "display": null,
            "flex": null,
            "flex_flow": null,
            "grid_area": null,
            "grid_auto_columns": null,
            "grid_auto_flow": null,
            "grid_auto_rows": null,
            "grid_column": null,
            "grid_gap": null,
            "grid_row": null,
            "grid_template_areas": null,
            "grid_template_columns": null,
            "grid_template_rows": null,
            "height": null,
            "justify_content": null,
            "justify_items": null,
            "left": null,
            "margin": null,
            "max_height": null,
            "max_width": null,
            "min_height": null,
            "min_width": null,
            "object_fit": null,
            "object_position": null,
            "order": null,
            "overflow": null,
            "overflow_x": null,
            "overflow_y": null,
            "padding": null,
            "right": null,
            "top": null,
            "visibility": null,
            "width": null
          }
        },
        "70da3f9206034063a4ed2e53d848ebac": {
          "model_module": "@jupyter-widgets/controls",
          "model_name": "DescriptionStyleModel",
          "model_module_version": "1.5.0",
          "state": {
            "_model_module": "@jupyter-widgets/controls",
            "_model_module_version": "1.5.0",
            "_model_name": "DescriptionStyleModel",
            "_view_count": null,
            "_view_module": "@jupyter-widgets/base",
            "_view_module_version": "1.2.0",
            "_view_name": "StyleView",
            "description_width": ""
          }
        },
        "ec2cee651bc446a1bd17f12acc6cd479": {
          "model_module": "@jupyter-widgets/base",
          "model_name": "LayoutModel",
          "model_module_version": "1.2.0",
          "state": {
            "_model_module": "@jupyter-widgets/base",
            "_model_module_version": "1.2.0",
            "_model_name": "LayoutModel",
            "_view_count": null,
            "_view_module": "@jupyter-widgets/base",
            "_view_module_version": "1.2.0",
            "_view_name": "LayoutView",
            "align_content": null,
            "align_items": null,
            "align_self": null,
            "border": null,
            "bottom": null,
            "display": null,
            "flex": null,
            "flex_flow": null,
            "grid_area": null,
            "grid_auto_columns": null,
            "grid_auto_flow": null,
            "grid_auto_rows": null,
            "grid_column": null,
            "grid_gap": null,
            "grid_row": null,
            "grid_template_areas": null,
            "grid_template_columns": null,
            "grid_template_rows": null,
            "height": null,
            "justify_content": null,
            "justify_items": null,
            "left": null,
            "margin": null,
            "max_height": null,
            "max_width": null,
            "min_height": null,
            "min_width": null,
            "object_fit": null,
            "object_position": null,
            "order": null,
            "overflow": null,
            "overflow_x": null,
            "overflow_y": null,
            "padding": null,
            "right": null,
            "top": null,
            "visibility": null,
            "width": null
          }
        },
        "75a7df0e1f6e4101ba26a138336c23b5": {
          "model_module": "@jupyter-widgets/controls",
          "model_name": "ProgressStyleModel",
          "model_module_version": "1.5.0",
          "state": {
            "_model_module": "@jupyter-widgets/controls",
            "_model_module_version": "1.5.0",
            "_model_name": "ProgressStyleModel",
            "_view_count": null,
            "_view_module": "@jupyter-widgets/base",
            "_view_module_version": "1.2.0",
            "_view_name": "StyleView",
            "bar_color": null,
            "description_width": ""
          }
        },
        "1afd2caf0ceb414fbdcb2367ceead373": {
          "model_module": "@jupyter-widgets/base",
          "model_name": "LayoutModel",
          "model_module_version": "1.2.0",
          "state": {
            "_model_module": "@jupyter-widgets/base",
            "_model_module_version": "1.2.0",
            "_model_name": "LayoutModel",
            "_view_count": null,
            "_view_module": "@jupyter-widgets/base",
            "_view_module_version": "1.2.0",
            "_view_name": "LayoutView",
            "align_content": null,
            "align_items": null,
            "align_self": null,
            "border": null,
            "bottom": null,
            "display": null,
            "flex": null,
            "flex_flow": null,
            "grid_area": null,
            "grid_auto_columns": null,
            "grid_auto_flow": null,
            "grid_auto_rows": null,
            "grid_column": null,
            "grid_gap": null,
            "grid_row": null,
            "grid_template_areas": null,
            "grid_template_columns": null,
            "grid_template_rows": null,
            "height": null,
            "justify_content": null,
            "justify_items": null,
            "left": null,
            "margin": null,
            "max_height": null,
            "max_width": null,
            "min_height": null,
            "min_width": null,
            "object_fit": null,
            "object_position": null,
            "order": null,
            "overflow": null,
            "overflow_x": null,
            "overflow_y": null,
            "padding": null,
            "right": null,
            "top": null,
            "visibility": null,
            "width": null
          }
        },
        "b87103ea1e0047c8a72e6d89d0bc4357": {
          "model_module": "@jupyter-widgets/controls",
          "model_name": "DescriptionStyleModel",
          "model_module_version": "1.5.0",
          "state": {
            "_model_module": "@jupyter-widgets/controls",
            "_model_module_version": "1.5.0",
            "_model_name": "DescriptionStyleModel",
            "_view_count": null,
            "_view_module": "@jupyter-widgets/base",
            "_view_module_version": "1.2.0",
            "_view_name": "StyleView",
            "description_width": ""
          }
        },
        "d7485225e26647b19e269f1f0703d0bc": {
          "model_module": "@jupyter-widgets/controls",
          "model_name": "HBoxModel",
          "model_module_version": "1.5.0",
          "state": {
            "_dom_classes": [],
            "_model_module": "@jupyter-widgets/controls",
            "_model_module_version": "1.5.0",
            "_model_name": "HBoxModel",
            "_view_count": null,
            "_view_module": "@jupyter-widgets/controls",
            "_view_module_version": "1.5.0",
            "_view_name": "HBoxView",
            "box_style": "",
            "children": [
              "IPY_MODEL_867871da9744466a980bfd13c045b78f",
              "IPY_MODEL_984c97f7edfb4db493b1f75d693dffba",
              "IPY_MODEL_21a55aab482548d8b33227588bd6e588"
            ],
            "layout": "IPY_MODEL_86eb7e255c6c477792f0ead2b76153c5"
          }
        },
        "867871da9744466a980bfd13c045b78f": {
          "model_module": "@jupyter-widgets/controls",
          "model_name": "HTMLModel",
          "model_module_version": "1.5.0",
          "state": {
            "_dom_classes": [],
            "_model_module": "@jupyter-widgets/controls",
            "_model_module_version": "1.5.0",
            "_model_name": "HTMLModel",
            "_view_count": null,
            "_view_module": "@jupyter-widgets/controls",
            "_view_module_version": "1.5.0",
            "_view_name": "HTMLView",
            "description": "",
            "description_tooltip": null,
            "layout": "IPY_MODEL_11ba94a468154c7bb1663612cc57d6d2",
            "placeholder": "​",
            "style": "IPY_MODEL_2c2e3bf02cc64459ae419513d919f53e",
            "value": "Downloading (…)/main/tokenizer.json: 100%"
          }
        },
        "984c97f7edfb4db493b1f75d693dffba": {
          "model_module": "@jupyter-widgets/controls",
          "model_name": "FloatProgressModel",
          "model_module_version": "1.5.0",
          "state": {
            "_dom_classes": [],
            "_model_module": "@jupyter-widgets/controls",
            "_model_module_version": "1.5.0",
            "_model_name": "FloatProgressModel",
            "_view_count": null,
            "_view_module": "@jupyter-widgets/controls",
            "_view_module_version": "1.5.0",
            "_view_name": "ProgressView",
            "bar_style": "success",
            "description": "",
            "description_tooltip": null,
            "layout": "IPY_MODEL_6153a918986b4408a82c059851108869",
            "max": 435797,
            "min": 0,
            "orientation": "horizontal",
            "style": "IPY_MODEL_d51f7dd15abf4c30ac4978663e3a80b4",
            "value": 435797
          }
        },
        "21a55aab482548d8b33227588bd6e588": {
          "model_module": "@jupyter-widgets/controls",
          "model_name": "HTMLModel",
          "model_module_version": "1.5.0",
          "state": {
            "_dom_classes": [],
            "_model_module": "@jupyter-widgets/controls",
            "_model_module_version": "1.5.0",
            "_model_name": "HTMLModel",
            "_view_count": null,
            "_view_module": "@jupyter-widgets/controls",
            "_view_module_version": "1.5.0",
            "_view_name": "HTMLView",
            "description": "",
            "description_tooltip": null,
            "layout": "IPY_MODEL_f6ca3fae39114f4398e7f03ab1722478",
            "placeholder": "​",
            "style": "IPY_MODEL_3dcf8cdb54eb482ea3e09d57891a3b73",
            "value": " 436k/436k [00:00&lt;00:00, 1.59MB/s]"
          }
        },
        "86eb7e255c6c477792f0ead2b76153c5": {
          "model_module": "@jupyter-widgets/base",
          "model_name": "LayoutModel",
          "model_module_version": "1.2.0",
          "state": {
            "_model_module": "@jupyter-widgets/base",
            "_model_module_version": "1.2.0",
            "_model_name": "LayoutModel",
            "_view_count": null,
            "_view_module": "@jupyter-widgets/base",
            "_view_module_version": "1.2.0",
            "_view_name": "LayoutView",
            "align_content": null,
            "align_items": null,
            "align_self": null,
            "border": null,
            "bottom": null,
            "display": null,
            "flex": null,
            "flex_flow": null,
            "grid_area": null,
            "grid_auto_columns": null,
            "grid_auto_flow": null,
            "grid_auto_rows": null,
            "grid_column": null,
            "grid_gap": null,
            "grid_row": null,
            "grid_template_areas": null,
            "grid_template_columns": null,
            "grid_template_rows": null,
            "height": null,
            "justify_content": null,
            "justify_items": null,
            "left": null,
            "margin": null,
            "max_height": null,
            "max_width": null,
            "min_height": null,
            "min_width": null,
            "object_fit": null,
            "object_position": null,
            "order": null,
            "overflow": null,
            "overflow_x": null,
            "overflow_y": null,
            "padding": null,
            "right": null,
            "top": null,
            "visibility": null,
            "width": null
          }
        },
        "11ba94a468154c7bb1663612cc57d6d2": {
          "model_module": "@jupyter-widgets/base",
          "model_name": "LayoutModel",
          "model_module_version": "1.2.0",
          "state": {
            "_model_module": "@jupyter-widgets/base",
            "_model_module_version": "1.2.0",
            "_model_name": "LayoutModel",
            "_view_count": null,
            "_view_module": "@jupyter-widgets/base",
            "_view_module_version": "1.2.0",
            "_view_name": "LayoutView",
            "align_content": null,
            "align_items": null,
            "align_self": null,
            "border": null,
            "bottom": null,
            "display": null,
            "flex": null,
            "flex_flow": null,
            "grid_area": null,
            "grid_auto_columns": null,
            "grid_auto_flow": null,
            "grid_auto_rows": null,
            "grid_column": null,
            "grid_gap": null,
            "grid_row": null,
            "grid_template_areas": null,
            "grid_template_columns": null,
            "grid_template_rows": null,
            "height": null,
            "justify_content": null,
            "justify_items": null,
            "left": null,
            "margin": null,
            "max_height": null,
            "max_width": null,
            "min_height": null,
            "min_width": null,
            "object_fit": null,
            "object_position": null,
            "order": null,
            "overflow": null,
            "overflow_x": null,
            "overflow_y": null,
            "padding": null,
            "right": null,
            "top": null,
            "visibility": null,
            "width": null
          }
        },
        "2c2e3bf02cc64459ae419513d919f53e": {
          "model_module": "@jupyter-widgets/controls",
          "model_name": "DescriptionStyleModel",
          "model_module_version": "1.5.0",
          "state": {
            "_model_module": "@jupyter-widgets/controls",
            "_model_module_version": "1.5.0",
            "_model_name": "DescriptionStyleModel",
            "_view_count": null,
            "_view_module": "@jupyter-widgets/base",
            "_view_module_version": "1.2.0",
            "_view_name": "StyleView",
            "description_width": ""
          }
        },
        "6153a918986b4408a82c059851108869": {
          "model_module": "@jupyter-widgets/base",
          "model_name": "LayoutModel",
          "model_module_version": "1.2.0",
          "state": {
            "_model_module": "@jupyter-widgets/base",
            "_model_module_version": "1.2.0",
            "_model_name": "LayoutModel",
            "_view_count": null,
            "_view_module": "@jupyter-widgets/base",
            "_view_module_version": "1.2.0",
            "_view_name": "LayoutView",
            "align_content": null,
            "align_items": null,
            "align_self": null,
            "border": null,
            "bottom": null,
            "display": null,
            "flex": null,
            "flex_flow": null,
            "grid_area": null,
            "grid_auto_columns": null,
            "grid_auto_flow": null,
            "grid_auto_rows": null,
            "grid_column": null,
            "grid_gap": null,
            "grid_row": null,
            "grid_template_areas": null,
            "grid_template_columns": null,
            "grid_template_rows": null,
            "height": null,
            "justify_content": null,
            "justify_items": null,
            "left": null,
            "margin": null,
            "max_height": null,
            "max_width": null,
            "min_height": null,
            "min_width": null,
            "object_fit": null,
            "object_position": null,
            "order": null,
            "overflow": null,
            "overflow_x": null,
            "overflow_y": null,
            "padding": null,
            "right": null,
            "top": null,
            "visibility": null,
            "width": null
          }
        },
        "d51f7dd15abf4c30ac4978663e3a80b4": {
          "model_module": "@jupyter-widgets/controls",
          "model_name": "ProgressStyleModel",
          "model_module_version": "1.5.0",
          "state": {
            "_model_module": "@jupyter-widgets/controls",
            "_model_module_version": "1.5.0",
            "_model_name": "ProgressStyleModel",
            "_view_count": null,
            "_view_module": "@jupyter-widgets/base",
            "_view_module_version": "1.2.0",
            "_view_name": "StyleView",
            "bar_color": null,
            "description_width": ""
          }
        },
        "f6ca3fae39114f4398e7f03ab1722478": {
          "model_module": "@jupyter-widgets/base",
          "model_name": "LayoutModel",
          "model_module_version": "1.2.0",
          "state": {
            "_model_module": "@jupyter-widgets/base",
            "_model_module_version": "1.2.0",
            "_model_name": "LayoutModel",
            "_view_count": null,
            "_view_module": "@jupyter-widgets/base",
            "_view_module_version": "1.2.0",
            "_view_name": "LayoutView",
            "align_content": null,
            "align_items": null,
            "align_self": null,
            "border": null,
            "bottom": null,
            "display": null,
            "flex": null,
            "flex_flow": null,
            "grid_area": null,
            "grid_auto_columns": null,
            "grid_auto_flow": null,
            "grid_auto_rows": null,
            "grid_column": null,
            "grid_gap": null,
            "grid_row": null,
            "grid_template_areas": null,
            "grid_template_columns": null,
            "grid_template_rows": null,
            "height": null,
            "justify_content": null,
            "justify_items": null,
            "left": null,
            "margin": null,
            "max_height": null,
            "max_width": null,
            "min_height": null,
            "min_width": null,
            "object_fit": null,
            "object_position": null,
            "order": null,
            "overflow": null,
            "overflow_x": null,
            "overflow_y": null,
            "padding": null,
            "right": null,
            "top": null,
            "visibility": null,
            "width": null
          }
        },
        "3dcf8cdb54eb482ea3e09d57891a3b73": {
          "model_module": "@jupyter-widgets/controls",
          "model_name": "DescriptionStyleModel",
          "model_module_version": "1.5.0",
          "state": {
            "_model_module": "@jupyter-widgets/controls",
            "_model_module_version": "1.5.0",
            "_model_name": "DescriptionStyleModel",
            "_view_count": null,
            "_view_module": "@jupyter-widgets/base",
            "_view_module_version": "1.2.0",
            "_view_name": "StyleView",
            "description_width": ""
          }
        },
        "802642c31875493d951c05b56e1320e9": {
          "model_module": "@jupyter-widgets/controls",
          "model_name": "HBoxModel",
          "model_module_version": "1.5.0",
          "state": {
            "_dom_classes": [],
            "_model_module": "@jupyter-widgets/controls",
            "_model_module_version": "1.5.0",
            "_model_name": "HBoxModel",
            "_view_count": null,
            "_view_module": "@jupyter-widgets/controls",
            "_view_module_version": "1.5.0",
            "_view_name": "HBoxView",
            "box_style": "",
            "children": [
              "IPY_MODEL_a30dc663640d4b37854bcb8b1e291c0a",
              "IPY_MODEL_1e3c2091b2644d48b96de565ec2ab177",
              "IPY_MODEL_b5812c9efb02461198dd58c793395a3b"
            ],
            "layout": "IPY_MODEL_00c7cb401aa04890bdb26f7a68826d15"
          }
        },
        "a30dc663640d4b37854bcb8b1e291c0a": {
          "model_module": "@jupyter-widgets/controls",
          "model_name": "HTMLModel",
          "model_module_version": "1.5.0",
          "state": {
            "_dom_classes": [],
            "_model_module": "@jupyter-widgets/controls",
            "_model_module_version": "1.5.0",
            "_model_name": "HTMLModel",
            "_view_count": null,
            "_view_module": "@jupyter-widgets/controls",
            "_view_module_version": "1.5.0",
            "_view_name": "HTMLView",
            "description": "",
            "description_tooltip": null,
            "layout": "IPY_MODEL_4d354970bfcb48d4ad80e544eaeeac08",
            "placeholder": "​",
            "style": "IPY_MODEL_7d8ff47249014b60862d5a75180901a6",
            "value": "Downloading model.safetensors: 100%"
          }
        },
        "1e3c2091b2644d48b96de565ec2ab177": {
          "model_module": "@jupyter-widgets/controls",
          "model_name": "FloatProgressModel",
          "model_module_version": "1.5.0",
          "state": {
            "_dom_classes": [],
            "_model_module": "@jupyter-widgets/controls",
            "_model_module_version": "1.5.0",
            "_model_name": "FloatProgressModel",
            "_view_count": null,
            "_view_module": "@jupyter-widgets/controls",
            "_view_module_version": "1.5.0",
            "_view_name": "ProgressView",
            "bar_style": "success",
            "description": "",
            "description_tooltip": null,
            "layout": "IPY_MODEL_1ae5d2ef035d4b9d9264e49d78e5f8e5",
            "max": 435755784,
            "min": 0,
            "orientation": "horizontal",
            "style": "IPY_MODEL_c54b2c49e1bd454db6d367a501148c12",
            "value": 435755784
          }
        },
        "b5812c9efb02461198dd58c793395a3b": {
          "model_module": "@jupyter-widgets/controls",
          "model_name": "HTMLModel",
          "model_module_version": "1.5.0",
          "state": {
            "_dom_classes": [],
            "_model_module": "@jupyter-widgets/controls",
            "_model_module_version": "1.5.0",
            "_model_name": "HTMLModel",
            "_view_count": null,
            "_view_module": "@jupyter-widgets/controls",
            "_view_module_version": "1.5.0",
            "_view_name": "HTMLView",
            "description": "",
            "description_tooltip": null,
            "layout": "IPY_MODEL_3af705a981d24c4faa326d408c45c280",
            "placeholder": "​",
            "style": "IPY_MODEL_865992634e13421c8ffae3c01775d871",
            "value": " 436M/436M [00:04&lt;00:00, 121MB/s]"
          }
        },
        "00c7cb401aa04890bdb26f7a68826d15": {
          "model_module": "@jupyter-widgets/base",
          "model_name": "LayoutModel",
          "model_module_version": "1.2.0",
          "state": {
            "_model_module": "@jupyter-widgets/base",
            "_model_module_version": "1.2.0",
            "_model_name": "LayoutModel",
            "_view_count": null,
            "_view_module": "@jupyter-widgets/base",
            "_view_module_version": "1.2.0",
            "_view_name": "LayoutView",
            "align_content": null,
            "align_items": null,
            "align_self": null,
            "border": null,
            "bottom": null,
            "display": null,
            "flex": null,
            "flex_flow": null,
            "grid_area": null,
            "grid_auto_columns": null,
            "grid_auto_flow": null,
            "grid_auto_rows": null,
            "grid_column": null,
            "grid_gap": null,
            "grid_row": null,
            "grid_template_areas": null,
            "grid_template_columns": null,
            "grid_template_rows": null,
            "height": null,
            "justify_content": null,
            "justify_items": null,
            "left": null,
            "margin": null,
            "max_height": null,
            "max_width": null,
            "min_height": null,
            "min_width": null,
            "object_fit": null,
            "object_position": null,
            "order": null,
            "overflow": null,
            "overflow_x": null,
            "overflow_y": null,
            "padding": null,
            "right": null,
            "top": null,
            "visibility": null,
            "width": null
          }
        },
        "4d354970bfcb48d4ad80e544eaeeac08": {
          "model_module": "@jupyter-widgets/base",
          "model_name": "LayoutModel",
          "model_module_version": "1.2.0",
          "state": {
            "_model_module": "@jupyter-widgets/base",
            "_model_module_version": "1.2.0",
            "_model_name": "LayoutModel",
            "_view_count": null,
            "_view_module": "@jupyter-widgets/base",
            "_view_module_version": "1.2.0",
            "_view_name": "LayoutView",
            "align_content": null,
            "align_items": null,
            "align_self": null,
            "border": null,
            "bottom": null,
            "display": null,
            "flex": null,
            "flex_flow": null,
            "grid_area": null,
            "grid_auto_columns": null,
            "grid_auto_flow": null,
            "grid_auto_rows": null,
            "grid_column": null,
            "grid_gap": null,
            "grid_row": null,
            "grid_template_areas": null,
            "grid_template_columns": null,
            "grid_template_rows": null,
            "height": null,
            "justify_content": null,
            "justify_items": null,
            "left": null,
            "margin": null,
            "max_height": null,
            "max_width": null,
            "min_height": null,
            "min_width": null,
            "object_fit": null,
            "object_position": null,
            "order": null,
            "overflow": null,
            "overflow_x": null,
            "overflow_y": null,
            "padding": null,
            "right": null,
            "top": null,
            "visibility": null,
            "width": null
          }
        },
        "7d8ff47249014b60862d5a75180901a6": {
          "model_module": "@jupyter-widgets/controls",
          "model_name": "DescriptionStyleModel",
          "model_module_version": "1.5.0",
          "state": {
            "_model_module": "@jupyter-widgets/controls",
            "_model_module_version": "1.5.0",
            "_model_name": "DescriptionStyleModel",
            "_view_count": null,
            "_view_module": "@jupyter-widgets/base",
            "_view_module_version": "1.2.0",
            "_view_name": "StyleView",
            "description_width": ""
          }
        },
        "1ae5d2ef035d4b9d9264e49d78e5f8e5": {
          "model_module": "@jupyter-widgets/base",
          "model_name": "LayoutModel",
          "model_module_version": "1.2.0",
          "state": {
            "_model_module": "@jupyter-widgets/base",
            "_model_module_version": "1.2.0",
            "_model_name": "LayoutModel",
            "_view_count": null,
            "_view_module": "@jupyter-widgets/base",
            "_view_module_version": "1.2.0",
            "_view_name": "LayoutView",
            "align_content": null,
            "align_items": null,
            "align_self": null,
            "border": null,
            "bottom": null,
            "display": null,
            "flex": null,
            "flex_flow": null,
            "grid_area": null,
            "grid_auto_columns": null,
            "grid_auto_flow": null,
            "grid_auto_rows": null,
            "grid_column": null,
            "grid_gap": null,
            "grid_row": null,
            "grid_template_areas": null,
            "grid_template_columns": null,
            "grid_template_rows": null,
            "height": null,
            "justify_content": null,
            "justify_items": null,
            "left": null,
            "margin": null,
            "max_height": null,
            "max_width": null,
            "min_height": null,
            "min_width": null,
            "object_fit": null,
            "object_position": null,
            "order": null,
            "overflow": null,
            "overflow_x": null,
            "overflow_y": null,
            "padding": null,
            "right": null,
            "top": null,
            "visibility": null,
            "width": null
          }
        },
        "c54b2c49e1bd454db6d367a501148c12": {
          "model_module": "@jupyter-widgets/controls",
          "model_name": "ProgressStyleModel",
          "model_module_version": "1.5.0",
          "state": {
            "_model_module": "@jupyter-widgets/controls",
            "_model_module_version": "1.5.0",
            "_model_name": "ProgressStyleModel",
            "_view_count": null,
            "_view_module": "@jupyter-widgets/base",
            "_view_module_version": "1.2.0",
            "_view_name": "StyleView",
            "bar_color": null,
            "description_width": ""
          }
        },
        "3af705a981d24c4faa326d408c45c280": {
          "model_module": "@jupyter-widgets/base",
          "model_name": "LayoutModel",
          "model_module_version": "1.2.0",
          "state": {
            "_model_module": "@jupyter-widgets/base",
            "_model_module_version": "1.2.0",
            "_model_name": "LayoutModel",
            "_view_count": null,
            "_view_module": "@jupyter-widgets/base",
            "_view_module_version": "1.2.0",
            "_view_name": "LayoutView",
            "align_content": null,
            "align_items": null,
            "align_self": null,
            "border": null,
            "bottom": null,
            "display": null,
            "flex": null,
            "flex_flow": null,
            "grid_area": null,
            "grid_auto_columns": null,
            "grid_auto_flow": null,
            "grid_auto_rows": null,
            "grid_column": null,
            "grid_gap": null,
            "grid_row": null,
            "grid_template_areas": null,
            "grid_template_columns": null,
            "grid_template_rows": null,
            "height": null,
            "justify_content": null,
            "justify_items": null,
            "left": null,
            "margin": null,
            "max_height": null,
            "max_width": null,
            "min_height": null,
            "min_width": null,
            "object_fit": null,
            "object_position": null,
            "order": null,
            "overflow": null,
            "overflow_x": null,
            "overflow_y": null,
            "padding": null,
            "right": null,
            "top": null,
            "visibility": null,
            "width": null
          }
        },
        "865992634e13421c8ffae3c01775d871": {
          "model_module": "@jupyter-widgets/controls",
          "model_name": "DescriptionStyleModel",
          "model_module_version": "1.5.0",
          "state": {
            "_model_module": "@jupyter-widgets/controls",
            "_model_module_version": "1.5.0",
            "_model_name": "DescriptionStyleModel",
            "_view_count": null,
            "_view_module": "@jupyter-widgets/base",
            "_view_module_version": "1.2.0",
            "_view_name": "StyleView",
            "description_width": ""
          }
        }
      }
    }
  },
  "nbformat": 4,
  "nbformat_minor": 0
}